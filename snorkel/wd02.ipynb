{
 "cells": [
  {
   "cell_type": "code",
   "execution_count": 2,
   "metadata": {},
   "outputs": [],
   "source": [
    "import pandas as pd\n",
    "import numpy as np\n",
    "import os\n",
    "import re"
   ]
  },
  {
   "cell_type": "markdown",
   "metadata": {},
   "source": [
    "## Loading data"
   ]
  },
  {
   "cell_type": "code",
   "execution_count": 3,
   "metadata": {},
   "outputs": [],
   "source": [
    "# load data into pandas\n",
    "def read_data(dir_path):\n",
    "    examples = []\n",
    "    for filename in os.listdir(dir_path):\n",
    "        if not filename.endswith(\"txt\"):\n",
    "            continue\n",
    "        keys = filename.split(\".\")[0].split(\"_\")\n",
    "        assert len(keys) == 3\n",
    "        # keys is [id, label, review_score]. For now we are only interested in the label\n",
    "        label = keys[1]\n",
    "        with open(os.path.join(dir_path, filename)) as f:\n",
    "            text = f.read().strip().replace(\"<br />\", \" \")\n",
    "        examples.append([text, 1 if label == 'pos' else 0])\n",
    "    return examples"
   ]
  },
  {
   "cell_type": "code",
   "execution_count": 4,
   "metadata": {},
   "outputs": [],
   "source": [
    "DEV_SIZE = 800"
   ]
  },
  {
   "cell_type": "code",
   "execution_count": 5,
   "metadata": {
    "scrolled": true
   },
   "outputs": [
    {
     "data": {
      "text/html": [
       "<div>\n",
       "<style scoped>\n",
       "    .dataframe tbody tr th:only-of-type {\n",
       "        vertical-align: middle;\n",
       "    }\n",
       "\n",
       "    .dataframe tbody tr th {\n",
       "        vertical-align: top;\n",
       "    }\n",
       "\n",
       "    .dataframe thead th {\n",
       "        text-align: right;\n",
       "    }\n",
       "</style>\n",
       "<table border=\"1\" class=\"dataframe\">\n",
       "  <thead>\n",
       "    <tr style=\"text-align: right;\">\n",
       "      <th></th>\n",
       "      <th>text</th>\n",
       "      <th>label</th>\n",
       "    </tr>\n",
       "  </thead>\n",
       "  <tbody>\n",
       "    <tr>\n",
       "      <th>0</th>\n",
       "      <td>It's beyond my comprehension that so much rubb...</td>\n",
       "      <td>1</td>\n",
       "    </tr>\n",
       "    <tr>\n",
       "      <th>1</th>\n",
       "      <td>'What I Like About You' is definitely a show t...</td>\n",
       "      <td>1</td>\n",
       "    </tr>\n",
       "    <tr>\n",
       "      <th>2</th>\n",
       "      <td>ELVIRA, MISTRESS OF THE DARK (1988)  directed ...</td>\n",
       "      <td>1</td>\n",
       "    </tr>\n",
       "    <tr>\n",
       "      <th>3</th>\n",
       "      <td>This is one of the most spiritual movies I hav...</td>\n",
       "      <td>1</td>\n",
       "    </tr>\n",
       "    <tr>\n",
       "      <th>4</th>\n",
       "      <td>Man With the Gun is pretty much forgotten now,...</td>\n",
       "      <td>1</td>\n",
       "    </tr>\n",
       "    <tr>\n",
       "      <th>...</th>\n",
       "      <td>...</td>\n",
       "      <td>...</td>\n",
       "    </tr>\n",
       "    <tr>\n",
       "      <th>795</th>\n",
       "      <td>Police Story is one of Jackie Chan's classic f...</td>\n",
       "      <td>1</td>\n",
       "    </tr>\n",
       "    <tr>\n",
       "      <th>796</th>\n",
       "      <td>If you need cheering up on a cold weekday even...</td>\n",
       "      <td>1</td>\n",
       "    </tr>\n",
       "    <tr>\n",
       "      <th>797</th>\n",
       "      <td>A wonderful early musical film from Rene Clair...</td>\n",
       "      <td>1</td>\n",
       "    </tr>\n",
       "    <tr>\n",
       "      <th>798</th>\n",
       "      <td>A light-hearted comedy, Nothing shows us a wor...</td>\n",
       "      <td>1</td>\n",
       "    </tr>\n",
       "    <tr>\n",
       "      <th>799</th>\n",
       "      <td>**Warning! Spoilers Ahead!**  This short is pa...</td>\n",
       "      <td>1</td>\n",
       "    </tr>\n",
       "  </tbody>\n",
       "</table>\n",
       "<p>800 rows × 2 columns</p>\n",
       "</div>"
      ],
      "text/plain": [
       "                                                  text  label\n",
       "0    It's beyond my comprehension that so much rubb...      1\n",
       "1    'What I Like About You' is definitely a show t...      1\n",
       "2    ELVIRA, MISTRESS OF THE DARK (1988)  directed ...      1\n",
       "3    This is one of the most spiritual movies I hav...      1\n",
       "4    Man With the Gun is pretty much forgotten now,...      1\n",
       "..                                                 ...    ...\n",
       "795  Police Story is one of Jackie Chan's classic f...      1\n",
       "796  If you need cheering up on a cold weekday even...      1\n",
       "797  A wonderful early musical film from Rene Clair...      1\n",
       "798  A light-hearted comedy, Nothing shows us a wor...      1\n",
       "799  **Warning! Spoilers Ahead!**  This short is pa...      1\n",
       "\n",
       "[800 rows x 2 columns]"
      ]
     },
     "execution_count": 5,
     "metadata": {},
     "output_type": "execute_result"
    }
   ],
   "source": [
    "SDEV_DIR = '../imdb-data/sd{}'.format(DEV_SIZE)\n",
    "sdev_data = read_data(SDEV_DIR)\n",
    "sdev_df = pd.DataFrame(sdev_data, columns=['text', 'label'])\n",
    "sdev_df"
   ]
  },
  {
   "cell_type": "code",
   "execution_count": 6,
   "metadata": {},
   "outputs": [
    {
     "data": {
      "text/html": [
       "<div>\n",
       "<style scoped>\n",
       "    .dataframe tbody tr th:only-of-type {\n",
       "        vertical-align: middle;\n",
       "    }\n",
       "\n",
       "    .dataframe tbody tr th {\n",
       "        vertical-align: top;\n",
       "    }\n",
       "\n",
       "    .dataframe thead th {\n",
       "        text-align: right;\n",
       "    }\n",
       "</style>\n",
       "<table border=\"1\" class=\"dataframe\">\n",
       "  <thead>\n",
       "    <tr style=\"text-align: right;\">\n",
       "      <th></th>\n",
       "      <th>text</th>\n",
       "      <th>label</th>\n",
       "    </tr>\n",
       "  </thead>\n",
       "  <tbody>\n",
       "    <tr>\n",
       "      <th>0</th>\n",
       "      <td>I have to start saying it has been a long time...</td>\n",
       "      <td>1</td>\n",
       "    </tr>\n",
       "    <tr>\n",
       "      <th>1</th>\n",
       "      <td>I thought that Mukhsin has been wonderfully wr...</td>\n",
       "      <td>1</td>\n",
       "    </tr>\n",
       "    <tr>\n",
       "      <th>2</th>\n",
       "      <td>First of all this was not a three hour movie -...</td>\n",
       "      <td>1</td>\n",
       "    </tr>\n",
       "    <tr>\n",
       "      <th>3</th>\n",
       "      <td>I cant understand at all why so many Godzilla ...</td>\n",
       "      <td>0</td>\n",
       "    </tr>\n",
       "    <tr>\n",
       "      <th>5</th>\n",
       "      <td>\"Hatred of a Minute\" is arguably one of the be...</td>\n",
       "      <td>1</td>\n",
       "    </tr>\n",
       "    <tr>\n",
       "      <th>...</th>\n",
       "      <td>...</td>\n",
       "      <td>...</td>\n",
       "    </tr>\n",
       "    <tr>\n",
       "      <th>24994</th>\n",
       "      <td>I agree with other users comments in that the ...</td>\n",
       "      <td>0</td>\n",
       "    </tr>\n",
       "    <tr>\n",
       "      <th>24995</th>\n",
       "      <td>This movie is about this wimpy guy who decides...</td>\n",
       "      <td>1</td>\n",
       "    </tr>\n",
       "    <tr>\n",
       "      <th>24997</th>\n",
       "      <td>I really enjoyed The 60's. Not being of that g...</td>\n",
       "      <td>1</td>\n",
       "    </tr>\n",
       "    <tr>\n",
       "      <th>24998</th>\n",
       "      <td>While on a vacation at the beach, red-haired b...</td>\n",
       "      <td>0</td>\n",
       "    </tr>\n",
       "    <tr>\n",
       "      <th>24999</th>\n",
       "      <td>I saw \"El Mar\" yesterday and thought it to be ...</td>\n",
       "      <td>1</td>\n",
       "    </tr>\n",
       "  </tbody>\n",
       "</table>\n",
       "<p>24016 rows × 2 columns</p>\n",
       "</div>"
      ],
      "text/plain": [
       "                                                    text  label\n",
       "0      I have to start saying it has been a long time...      1\n",
       "1      I thought that Mukhsin has been wonderfully wr...      1\n",
       "2      First of all this was not a three hour movie -...      1\n",
       "3      I cant understand at all why so many Godzilla ...      0\n",
       "5      \"Hatred of a Minute\" is arguably one of the be...      1\n",
       "...                                                  ...    ...\n",
       "24994  I agree with other users comments in that the ...      0\n",
       "24995  This movie is about this wimpy guy who decides...      1\n",
       "24997  I really enjoyed The 60's. Not being of that g...      1\n",
       "24998  While on a vacation at the beach, red-haired b...      0\n",
       "24999  I saw \"El Mar\" yesterday and thought it to be ...      1\n",
       "\n",
       "[24016 rows x 2 columns]"
      ]
     },
     "execution_count": 6,
     "metadata": {},
     "output_type": "execute_result"
    }
   ],
   "source": [
    "from sklearn.model_selection import train_test_split\n",
    "\n",
    "TRAIN_DIR = '../imdb-data/og'\n",
    "train_data = read_data(TRAIN_DIR)\n",
    "\n",
    "all_train_df = pd.DataFrame(train_data, columns=['text', 'label'])\n",
    "train_df = pd.concat([all_train_df, sdev_df]).drop_duplicates(keep=False)\n",
    "train_df"
   ]
  },
  {
   "cell_type": "markdown",
   "metadata": {},
   "source": [
    "## Labeling functions"
   ]
  },
  {
   "cell_type": "code",
   "execution_count": 7,
   "metadata": {},
   "outputs": [],
   "source": [
    "# define constants to represent class labels\n",
    "ABSTAIN = -1\n",
    "POS = 1\n",
    "NEG = 0"
   ]
  },
  {
   "cell_type": "code",
   "execution_count": 8,
   "metadata": {},
   "outputs": [],
   "source": [
    "DISTANCE = 8"
   ]
  },
  {
   "cell_type": "markdown",
   "metadata": {},
   "source": [
    "### Textblob"
   ]
  },
  {
   "cell_type": "code",
   "execution_count": 10,
   "metadata": {},
   "outputs": [],
   "source": [
    "from snorkel.preprocess import preprocessor\n",
    "from textblob import TextBlob\n",
    "from snorkel.labeling import labeling_function\n",
    "\n",
    "\n",
    "@preprocessor(memoize=True)\n",
    "def textblob_sentiment(x):\n",
    "    scores = TextBlob(x.text)\n",
    "    x.polarity = scores.sentiment.polarity\n",
    "    x.subjectivity = scores.sentiment.subjectivity\n",
    "    return x\n",
    "\n",
    "pos_polarity_threshold = 0.15\n",
    "neg_polarity_threshold = 0.08\n",
    "@labeling_function(pre=[textblob_sentiment])\n",
    "def pos_textblob_polarity(x):\n",
    "    return POS if x.polarity > pos_polarity_threshold else ABSTAIN\n",
    "\n",
    "@labeling_function(pre=[textblob_sentiment])\n",
    "def neg_textblob_polarity(x):\n",
    "    return NEG if x.polarity < neg_polarity_threshold else ABSTAIN"
   ]
  },
  {
   "cell_type": "code",
   "execution_count": 11,
   "metadata": {},
   "outputs": [],
   "source": [
    "def textblob_polarity(x):\n",
    "    scores = TextBlob(x)\n",
    "    if scores.sentiment.polarity > pos_polarity_threshold:\n",
    "        return POS\n",
    "    elif scores.sentiment.polarity < neg_polarity_threshold:\n",
    "        return NEG\n",
    "    return ABSTAIN"
   ]
  },
  {
   "cell_type": "code",
   "execution_count": 12,
   "metadata": {},
   "outputs": [],
   "source": [
    "textblob_pol = [textblob_polarity(x) for x in list(train_df['text'])]"
   ]
  },
  {
   "cell_type": "code",
   "execution_count": 13,
   "metadata": {},
   "outputs": [],
   "source": [
    "df_textblob = train_df.copy()\n",
    "df_textblob['textblob_label'] = textblob_pol"
   ]
  },
  {
   "cell_type": "code",
   "execution_count": 14,
   "metadata": {},
   "outputs": [],
   "source": [
    "df_textblob = df_textblob[df_textblob['textblob_label'] != -1]"
   ]
  },
  {
   "cell_type": "code",
   "execution_count": 15,
   "metadata": {},
   "outputs": [],
   "source": [
    "texts_textblob = list(df_textblob['text'])\n",
    "labels_textblob = list(df_textblob['textblob_label'])"
   ]
  },
  {
   "cell_type": "code",
   "execution_count": 16,
   "metadata": {},
   "outputs": [],
   "source": [
    "ds_textblob = [[text, label] for text, label in zip(texts_textblob, labels_textblob)]"
   ]
  },
  {
   "cell_type": "markdown",
   "metadata": {},
   "source": [
    "## Get most indicative words using Naive Bayes on textblob generated dataset"
   ]
  },
  {
   "cell_type": "code",
   "execution_count": 16,
   "metadata": {},
   "outputs": [
    {
     "name": "stdout",
     "output_type": "stream",
     "text": [
      "Size of dictionary:  2951\n",
      "Text matrix has been prepared.\n",
      "Naive bayes model fit complete.\n"
     ]
    }
   ],
   "source": [
    "from naive_bayes.imdb import return_keywords_indices\n",
    "\n",
    "all_words, most_pos_indices, most_neg_indices = return_keywords_indices(ds_textblob)"
   ]
  },
  {
   "cell_type": "code",
   "execution_count": 17,
   "metadata": {},
   "outputs": [],
   "source": [
    "NUM_KEYWORDS = 50\n",
    "\n",
    "top_pos_words = [all_words[ind] for ind in most_pos_indices[:NUM_KEYWORDS]]\n",
    "top_neg_words = [all_words[ind] for ind in most_neg_indices[:NUM_KEYWORDS]]"
   ]
  },
  {
   "cell_type": "code",
   "execution_count": 18,
   "metadata": {
    "scrolled": true
   },
   "outputs": [
    {
     "name": "stdout",
     "output_type": "stream",
     "text": [
      "Top pos words:\n",
      "['delightful', 'superb', 'beautifully', 'wonderful', 'magnificent', 'breathtaking', 'delight', 'marvelous', 'wonderfully', 'awesome', 'excellent', 'exceptional', 'fantastic', 'brilliantly', 'favorites', 'fabulous', 'touching', 'greatest', 'unforgettable', 'amazing', 'brilliant', 'outstanding', 'perfect', 'nominated', 'winning', '910', 'loved', 'charming', 'warm', 'rose', '810', '1010', 'beautiful', 'perfectly', 'appreciated', 'incredible', 'oscars', 'gripping', 'lovely', 'ensemble', 'nicely', 'happiness', 'great', 'favorite', 'extraordinary', '710', 'oscar', 'stunning', 'underrated', 'refreshing']\n",
      "\n",
      "Top neg words:\n",
      "['atrocious', 'horribly', 'stupidity', 'worst', 'amateurish', 'awful', 'pathetic', 'horrible', 'incoherent', 'retarded', 'terrible', 'lousy', 'laughable', 'poorly', 'pointless', 'stupid', 'crap', 'lame', 'idiotic', 'dreadful', 'insulting', 'badly', 'waste', '110', 'worse', 'ridiculous', 'appalling', 'pile', 'disgusting', 'idiot', 'dumb', 'sucks', 'unfunny', 'ugly', 'remotely', 'bad', 'nasty', 'wasting', 'ripoff', 'boring', 'random', 'alien', 'whatsoever', 'inept', 'annoying', 'excuse', 'utter', 'tedious', 'horrendous', 'zero']\n"
     ]
    }
   ],
   "source": [
    "print('Top pos words:')\n",
    "print(top_pos_words)\n",
    "print('\\nTop neg words:')\n",
    "print(top_neg_words)\n",
    "\n",
    "# Remember to post-process these by removing those words that are correlational but not causal, e.g. 'germany'"
   ]
  },
  {
   "cell_type": "code",
   "execution_count": 17,
   "metadata": {},
   "outputs": [],
   "source": [
    "pos_words = set(['delightful', 'superb', 'beautifully', 'wonderful', 'magnificent', 'breathtaking', 'delight', 'marvelous', 'wonderfully', 'awesome', 'excellent', 'exceptional', 'fantastic', 'brilliantly', 'favorites', 'fabulous', 'touching', 'greatest', 'unforgettable', 'amazing', 'brilliant', 'outstanding', 'perfect', 'nominated', 'winning', '910', 'loved', 'charming', 'warm', 'rose', '810', '1010', 'beautiful', 'perfectly', 'appreciated', 'incredible', 'oscars', 'gripping', 'lovely', 'ensemble', 'nicely', 'happiness', 'great', 'favorite', 'extraordinary', '710', 'oscar', 'stunning', 'underrated', 'refreshing'])\n",
    "neg_words = set(['atrocious', 'horribly', 'stupidity', 'worst', 'amateurish', 'awful', 'pathetic', 'horrible', 'incoherent', 'retarded', 'terrible', 'lousy', 'laughable', 'poorly', 'pointless', 'stupid', 'crap', 'lame', 'idiotic', 'dreadful', 'insulting', 'badly', 'waste', '110', 'worse', 'ridiculous', 'appalling', 'pile', 'disgusting', 'idiot', 'dumb', 'sucks', 'unfunny', 'ugly', 'remotely', 'bad', 'nasty', 'wasting', 'ripoff', 'boring', 'random', 'alien', 'whatsoever', 'inept', 'annoying', 'excuse', 'utter', 'tedious', 'horrendous', 'zero'])"
   ]
  },
  {
   "cell_type": "markdown",
   "metadata": {},
   "source": [
    "## Applying and tuning LFs"
   ]
  },
  {
   "cell_type": "code",
   "execution_count": 18,
   "metadata": {},
   "outputs": [],
   "source": [
    "from snorkel.labeling import labeling_function\n",
    "\n",
    "neg_adjs = set([\n",
    "    'bad', 'worst', 'horrible', 'terrible', 'stupid', 'boring', 'dreadful', 'disgust',\n",
    "    'disturbing', 'problem', 'disaster', 'a waste', 'not a fan'\n",
    "])\n",
    "\n",
    "@labeling_function()\n",
    "def neg_adj(x):\n",
    "    text = x.text.lower()\n",
    "    for word in neg_adjs:\n",
    "        char_index = text.find(word)\n",
    "        if char_index != -1:\n",
    "            substring = text[max(char_index - DISTANCE, 0):char_index]\n",
    "            if ('not' in substring) or ('n\\'t' in substring) :\n",
    "                continue\n",
    "            else:\n",
    "                return NEG\n",
    "    return ABSTAIN\n",
    "\n",
    "\n",
    "@labeling_function()\n",
    "def detect_pos_words_from_naive_bayes(x):\n",
    "    return POS if any(re.search(r'[\\.!?\\-\\s]' + word + r'[\\.!?\\-\\s]', x.text.lower()) \\\n",
    "                      for word in pos_words) else ABSTAIN\n",
    "    #return POS if any(word in x.text.lower() for word in pos_words) else ABSTAIN\n",
    "\n",
    "@labeling_function()\n",
    "def detect_neg_words_from_naive_bayes(x):\n",
    "    return NEG if any(re.search(r'[\\.!?\\-\\s]' + word + r'[\\.!?\\-\\s]', x.text.lower()) \\\n",
    "                      for word in neg_words) else ABSTAIN\n",
    "    #return NEG if any(word in x.text.lower() for word in neg_words) else ABSTAIN\n",
    "    \n",
    "@labeling_function()    \n",
    "def detect_pos_exclamation(x):\n",
    "    return POS if all(not re.search(r'[\\.!?\\-\\s]' + word + r'[\\.!?\\-\\s]', x.text.lower()) for word in neg_words) \\\n",
    "                    and '!' in x.text.lower() else ABSTAIN\n",
    "@labeling_function()                      \n",
    "def detect_neg_exclamation(x):\n",
    "    return NEG if all(not re.search(r'[\\.!?\\-\\s]' + word + r'[\\.!?\\-\\s]', x.text.lower()) for word in pos_words) \\\n",
    "                    and '!' in x.text.lower() else ABSTAIN\n",
    "\n",
    "@labeling_function()\n",
    "def score_keywords(x):\n",
    "    text = x.text.lower()\n",
    "    pos_word_score = 1.0\n",
    "    neg_word_score = -1.0\n",
    "    score = 0\n",
    "    for word in pos_words:\n",
    "        if re.search(r'[\\.!?\\-\\s]' + word + r'[\\.!?\\-\\s]', text):\n",
    "            score += pos_word_score\n",
    "    for word in neg_words:\n",
    "        if re.search(r'[\\.!?\\-\\s]' + word + r'[\\.!?\\-\\s]', text):\n",
    "            score += neg_word_score\n",
    "    if score > 0:\n",
    "        return POS\n",
    "    elif score < 0:\n",
    "        return NEG\n",
    "    return ABSTAIN\n",
    "\n",
    "zero_score = r'0(( out of )|/)10'\n",
    "neg_score = r'[1-4](( out of )|/)10'\n",
    "pos_score = r'[6789](( out of )|/)10'\n",
    "full_score = r'10(( out of )|/)10'\n",
    "@labeling_function()\n",
    "def find_user_review_score(x):\n",
    "    if re.search(neg_score, x.text.lower()) :\n",
    "        return NEG\n",
    "    elif re.search(pos_score, x.text.lower()) or re.search(full_score, x.text.lower()):\n",
    "        return POS\n",
    "    elif re.search(zero_score, x.text.lower()):\n",
    "        # we know there's no full score\n",
    "        return NEG\n",
    "    return ABSTAIN"
   ]
  },
  {
   "cell_type": "code",
   "execution_count": 19,
   "metadata": {},
   "outputs": [],
   "source": [
    "lfs = [neg_adj, \n",
    "       detect_pos_exclamation, score_keywords, find_user_review_score, pos_textblob_polarity, neg_textblob_polarity]\n",
    "# detect_pos_words_from_naive_bayes, detect_neg_words_from_naive_bayes,"
   ]
  },
  {
   "cell_type": "code",
   "execution_count": 20,
   "metadata": {},
   "outputs": [],
   "source": [
    "from snorkel.labeling import PandasLFApplier\n",
    "from snorkel.labeling import LFAnalysis\n",
    "\n",
    "applier = PandasLFApplier(lfs=lfs)"
   ]
  },
  {
   "cell_type": "code",
   "execution_count": 21,
   "metadata": {},
   "outputs": [
    {
     "name": "stderr",
     "output_type": "stream",
     "text": [
      "100%|██████████| 800/800 [00:05<00:00, 158.97it/s]\n"
     ]
    },
    {
     "data": {
      "text/html": [
       "<div>\n",
       "<style scoped>\n",
       "    .dataframe tbody tr th:only-of-type {\n",
       "        vertical-align: middle;\n",
       "    }\n",
       "\n",
       "    .dataframe tbody tr th {\n",
       "        vertical-align: top;\n",
       "    }\n",
       "\n",
       "    .dataframe thead th {\n",
       "        text-align: right;\n",
       "    }\n",
       "</style>\n",
       "<table border=\"1\" class=\"dataframe\">\n",
       "  <thead>\n",
       "    <tr style=\"text-align: right;\">\n",
       "      <th></th>\n",
       "      <th>j</th>\n",
       "      <th>Polarity</th>\n",
       "      <th>Coverage</th>\n",
       "      <th>Overlaps</th>\n",
       "      <th>Conflicts</th>\n",
       "      <th>Correct</th>\n",
       "      <th>Incorrect</th>\n",
       "      <th>Emp. Acc.</th>\n",
       "    </tr>\n",
       "  </thead>\n",
       "  <tbody>\n",
       "    <tr>\n",
       "      <th>neg_adj</th>\n",
       "      <td>0</td>\n",
       "      <td>[0]</td>\n",
       "      <td>0.44625</td>\n",
       "      <td>0.42625</td>\n",
       "      <td>0.12875</td>\n",
       "      <td>251</td>\n",
       "      <td>106</td>\n",
       "      <td>0.703081</td>\n",
       "    </tr>\n",
       "    <tr>\n",
       "      <th>detect_pos_exclamation</th>\n",
       "      <td>1</td>\n",
       "      <td>[1]</td>\n",
       "      <td>0.14750</td>\n",
       "      <td>0.13875</td>\n",
       "      <td>0.04000</td>\n",
       "      <td>95</td>\n",
       "      <td>23</td>\n",
       "      <td>0.805085</td>\n",
       "    </tr>\n",
       "    <tr>\n",
       "      <th>score_keywords</th>\n",
       "      <td>2</td>\n",
       "      <td>[0, 1]</td>\n",
       "      <td>0.76000</td>\n",
       "      <td>0.72000</td>\n",
       "      <td>0.14625</td>\n",
       "      <td>535</td>\n",
       "      <td>73</td>\n",
       "      <td>0.879934</td>\n",
       "    </tr>\n",
       "    <tr>\n",
       "      <th>find_user_review_score</th>\n",
       "      <td>3</td>\n",
       "      <td>[0, 1]</td>\n",
       "      <td>0.07375</td>\n",
       "      <td>0.07250</td>\n",
       "      <td>0.02625</td>\n",
       "      <td>54</td>\n",
       "      <td>5</td>\n",
       "      <td>0.915254</td>\n",
       "    </tr>\n",
       "    <tr>\n",
       "      <th>pos_textblob_polarity</th>\n",
       "      <td>4</td>\n",
       "      <td>[1]</td>\n",
       "      <td>0.38750</td>\n",
       "      <td>0.33500</td>\n",
       "      <td>0.08500</td>\n",
       "      <td>262</td>\n",
       "      <td>48</td>\n",
       "      <td>0.845161</td>\n",
       "    </tr>\n",
       "    <tr>\n",
       "      <th>neg_textblob_polarity</th>\n",
       "      <td>5</td>\n",
       "      <td>[0]</td>\n",
       "      <td>0.44000</td>\n",
       "      <td>0.39375</td>\n",
       "      <td>0.07875</td>\n",
       "      <td>281</td>\n",
       "      <td>71</td>\n",
       "      <td>0.798295</td>\n",
       "    </tr>\n",
       "  </tbody>\n",
       "</table>\n",
       "</div>"
      ],
      "text/plain": [
       "                        j Polarity  Coverage  Overlaps  Conflicts  Correct  \\\n",
       "neg_adj                 0      [0]   0.44625   0.42625    0.12875      251   \n",
       "detect_pos_exclamation  1      [1]   0.14750   0.13875    0.04000       95   \n",
       "score_keywords          2   [0, 1]   0.76000   0.72000    0.14625      535   \n",
       "find_user_review_score  3   [0, 1]   0.07375   0.07250    0.02625       54   \n",
       "pos_textblob_polarity   4      [1]   0.38750   0.33500    0.08500      262   \n",
       "neg_textblob_polarity   5      [0]   0.44000   0.39375    0.07875      281   \n",
       "\n",
       "                        Incorrect  Emp. Acc.  \n",
       "neg_adj                       106   0.703081  \n",
       "detect_pos_exclamation         23   0.805085  \n",
       "score_keywords                 73   0.879934  \n",
       "find_user_review_score          5   0.915254  \n",
       "pos_textblob_polarity          48   0.845161  \n",
       "neg_textblob_polarity          71   0.798295  "
      ]
     },
     "execution_count": 21,
     "metadata": {},
     "output_type": "execute_result"
    }
   ],
   "source": [
    "L_sdev = applier.apply(df=sdev_df)\n",
    "LFAnalysis(L=L_sdev, lfs=lfs).lf_summary(Y=np.asarray(sdev_df[\"label\"]))"
   ]
  },
  {
   "cell_type": "code",
   "execution_count": 22,
   "metadata": {},
   "outputs": [
    {
     "name": "stderr",
     "output_type": "stream",
     "text": [
      "100%|██████████| 24016/24016 [02:28<00:00, 161.29it/s]\n"
     ]
    },
    {
     "data": {
      "text/html": [
       "<div>\n",
       "<style scoped>\n",
       "    .dataframe tbody tr th:only-of-type {\n",
       "        vertical-align: middle;\n",
       "    }\n",
       "\n",
       "    .dataframe tbody tr th {\n",
       "        vertical-align: top;\n",
       "    }\n",
       "\n",
       "    .dataframe thead th {\n",
       "        text-align: right;\n",
       "    }\n",
       "</style>\n",
       "<table border=\"1\" class=\"dataframe\">\n",
       "  <thead>\n",
       "    <tr style=\"text-align: right;\">\n",
       "      <th></th>\n",
       "      <th>j</th>\n",
       "      <th>Polarity</th>\n",
       "      <th>Coverage</th>\n",
       "      <th>Overlaps</th>\n",
       "      <th>Conflicts</th>\n",
       "      <th>Correct</th>\n",
       "      <th>Incorrect</th>\n",
       "      <th>Emp. Acc.</th>\n",
       "    </tr>\n",
       "  </thead>\n",
       "  <tbody>\n",
       "    <tr>\n",
       "      <th>neg_adj</th>\n",
       "      <td>0</td>\n",
       "      <td>[0]</td>\n",
       "      <td>0.445286</td>\n",
       "      <td>0.426632</td>\n",
       "      <td>0.120586</td>\n",
       "      <td>7675</td>\n",
       "      <td>3019</td>\n",
       "      <td>0.717692</td>\n",
       "    </tr>\n",
       "    <tr>\n",
       "      <th>detect_pos_exclamation</th>\n",
       "      <td>1</td>\n",
       "      <td>[1]</td>\n",
       "      <td>0.150316</td>\n",
       "      <td>0.141322</td>\n",
       "      <td>0.037433</td>\n",
       "      <td>2802</td>\n",
       "      <td>808</td>\n",
       "      <td>0.776177</td>\n",
       "    </tr>\n",
       "    <tr>\n",
       "      <th>score_keywords</th>\n",
       "      <td>2</td>\n",
       "      <td>[0, 1]</td>\n",
       "      <td>0.745128</td>\n",
       "      <td>0.696078</td>\n",
       "      <td>0.139407</td>\n",
       "      <td>15283</td>\n",
       "      <td>2612</td>\n",
       "      <td>0.854037</td>\n",
       "    </tr>\n",
       "    <tr>\n",
       "      <th>find_user_review_score</th>\n",
       "      <td>3</td>\n",
       "      <td>[0, 1]</td>\n",
       "      <td>0.083195</td>\n",
       "      <td>0.080655</td>\n",
       "      <td>0.027981</td>\n",
       "      <td>1916</td>\n",
       "      <td>82</td>\n",
       "      <td>0.958959</td>\n",
       "    </tr>\n",
       "    <tr>\n",
       "      <th>pos_textblob_polarity</th>\n",
       "      <td>4</td>\n",
       "      <td>[1]</td>\n",
       "      <td>0.374667</td>\n",
       "      <td>0.325450</td>\n",
       "      <td>0.086193</td>\n",
       "      <td>7409</td>\n",
       "      <td>1589</td>\n",
       "      <td>0.823405</td>\n",
       "    </tr>\n",
       "    <tr>\n",
       "      <th>neg_textblob_polarity</th>\n",
       "      <td>5</td>\n",
       "      <td>[0]</td>\n",
       "      <td>0.432170</td>\n",
       "      <td>0.386492</td>\n",
       "      <td>0.064665</td>\n",
       "      <td>8324</td>\n",
       "      <td>2055</td>\n",
       "      <td>0.802004</td>\n",
       "    </tr>\n",
       "  </tbody>\n",
       "</table>\n",
       "</div>"
      ],
      "text/plain": [
       "                        j Polarity  Coverage  Overlaps  Conflicts  Correct  \\\n",
       "neg_adj                 0      [0]  0.445286  0.426632   0.120586     7675   \n",
       "detect_pos_exclamation  1      [1]  0.150316  0.141322   0.037433     2802   \n",
       "score_keywords          2   [0, 1]  0.745128  0.696078   0.139407    15283   \n",
       "find_user_review_score  3   [0, 1]  0.083195  0.080655   0.027981     1916   \n",
       "pos_textblob_polarity   4      [1]  0.374667  0.325450   0.086193     7409   \n",
       "neg_textblob_polarity   5      [0]  0.432170  0.386492   0.064665     8324   \n",
       "\n",
       "                        Incorrect  Emp. Acc.  \n",
       "neg_adj                      3019   0.717692  \n",
       "detect_pos_exclamation        808   0.776177  \n",
       "score_keywords               2612   0.854037  \n",
       "find_user_review_score         82   0.958959  \n",
       "pos_textblob_polarity        1589   0.823405  \n",
       "neg_textblob_polarity        2055   0.802004  "
      ]
     },
     "execution_count": 22,
     "metadata": {},
     "output_type": "execute_result"
    }
   ],
   "source": [
    "L_train = applier.apply(df=train_df)\n",
    "LFAnalysis(L=L_train, lfs=lfs).lf_summary(Y=np.asarray(train_df[\"label\"]))"
   ]
  },
  {
   "cell_type": "code",
   "execution_count": 23,
   "metadata": {},
   "outputs": [
    {
     "data": {
      "image/png": "[encoded data removed]",
      "text/plain": [
       "<Figure size 432x288 with 1 Axes>"
      ]
     },
     "metadata": {
      "needs_background": "light"
     },
     "output_type": "display_data"
    }
   ],
   "source": [
    "import matplotlib.pyplot as plt\n",
    "def plot_label_frequency(L):\n",
    "    plt.hist((L != ABSTAIN).sum(axis=1), density=True, bins=range(L.shape[1]))\n",
    "    plt.xlabel(\"Number of labels\")\n",
    "    plt.ylabel(\"Fraction of dataset\")\n",
    "    plt.show()\n",
    "\n",
    "\n",
    "plot_label_frequency(L_train)"
   ]
  },
  {
   "cell_type": "markdown",
   "metadata": {},
   "source": [
    "## Testing Majority Vote (baseline) on sdev set"
   ]
  },
  {
   "cell_type": "code",
   "execution_count": 24,
   "metadata": {},
   "outputs": [
    {
     "name": "stderr",
     "output_type": "stream",
     "text": [
      "WARNING:root:Metrics calculated over data points with non-abstain labels only\n"
     ]
    },
    {
     "name": "stdout",
     "output_type": "stream",
     "text": [
      "Majority Vote Accuracy:   84.6%\n"
     ]
    }
   ],
   "source": [
    "from snorkel.labeling import MajorityLabelVoter\n",
    "\n",
    "majority_model = MajorityLabelVoter()\n",
    "majority_acc = majority_model.score(L=L_sdev, Y=np.asarray(sdev_df[\"label\"]))[\"accuracy\"]\n",
    "print(f\"{'Majority Vote Accuracy:':<25} {majority_acc * 100:.1f}%\")"
   ]
  },
  {
   "cell_type": "code",
   "execution_count": 25,
   "metadata": {},
   "outputs": [
    {
     "name": "stderr",
     "output_type": "stream",
     "text": [
      "WARNING:root:Metrics calculated over data points with non-abstain labels only\n"
     ]
    },
    {
     "name": "stdout",
     "output_type": "stream",
     "text": [
      "Majority Vote Accuracy:   83.1%\n"
     ]
    }
   ],
   "source": [
    "# Attention: this part is pseudo-cheating!\n",
    "\n",
    "majority_model_test_acc = majority_model.score(L=L_train, Y=np.asarray(train_df[\"label\"]))['accuracy']\n",
    "print(f\"{'Majority Vote Accuracy:':<25} {majority_model_test_acc * 100:.1f}%\")"
   ]
  },
  {
   "cell_type": "markdown",
   "metadata": {},
   "source": [
    "## Training Generative Model on train set and testing it on sdev set"
   ]
  },
  {
   "cell_type": "code",
   "execution_count": 26,
   "metadata": {},
   "outputs": [],
   "source": [
    "from snorkel.labeling import LabelModel\n",
    "\n",
    "label_model = LabelModel(cardinality=2)\n",
    "label_model.fit(L_train=L_train, n_epochs=500, lr=.01, log_freq=1, Y_dev=np.asarray(sdev_df[\"label\"]))"
   ]
  },
  {
   "cell_type": "code",
   "execution_count": 27,
   "metadata": {
    "scrolled": true
   },
   "outputs": [
    {
     "data": {
      "text/plain": [
       "array([0.83884084, 0.92928007, 0.97017688, 0.85468504, 0.97968364,\n",
       "       0.92186278])"
      ]
     },
     "execution_count": 27,
     "metadata": {},
     "output_type": "execute_result"
    }
   ],
   "source": [
    "label_model.get_weights()"
   ]
  },
  {
   "cell_type": "code",
   "execution_count": 28,
   "metadata": {
    "scrolled": true
   },
   "outputs": [
    {
     "name": "stderr",
     "output_type": "stream",
     "text": [
      "WARNING:root:Metrics calculated over data points with non-abstain labels only\n"
     ]
    },
    {
     "name": "stdout",
     "output_type": "stream",
     "text": [
      "{'accuracy': 0.819693094629156}\n"
     ]
    }
   ],
   "source": [
    "label_model_perf = label_model.score(L=L_sdev, Y=np.asarray(sdev_df[\"label\"]))\n",
    "print(label_model_perf)"
   ]
  },
  {
   "cell_type": "code",
   "execution_count": 29,
   "metadata": {
    "scrolled": false
   },
   "outputs": [
    {
     "name": "stderr",
     "output_type": "stream",
     "text": [
      "WARNING:root:Metrics calculated over data points with non-abstain labels only\n"
     ]
    },
    {
     "name": "stdout",
     "output_type": "stream",
     "text": [
      "{'accuracy': 0.8039148055531603}\n"
     ]
    }
   ],
   "source": [
    "# Attention: this part is pseudo-cheating!\n",
    "\n",
    "label_model_test_perf = label_model.score(L=L_train, Y=np.asarray(train_df[\"label\"]))\n",
    "print(label_model_test_perf)"
   ]
  },
  {
   "cell_type": "code",
   "execution_count": 128,
   "metadata": {},
   "outputs": [
    {
     "data": {
      "text/plain": [
       "0.8803081672254527"
      ]
     },
     "execution_count": 128,
     "metadata": {},
     "output_type": "execute_result"
    }
   ],
   "source": [
    "from sklearn.metrics import roc_auc_score\n",
    "roc_auc_score(list(df['label']), list(df['snorkel_label']))"
   ]
  },
  {
   "cell_type": "code",
   "execution_count": null,
   "metadata": {},
   "outputs": [],
   "source": []
  },
  {
   "cell_type": "markdown",
   "metadata": {},
   "source": [
    "## Filtering out unlabeled data points"
   ]
  },
  {
   "cell_type": "code",
   "execution_count": 101,
   "metadata": {},
   "outputs": [],
   "source": [
    "model = label_model"
   ]
  },
  {
   "cell_type": "markdown",
   "metadata": {},
   "source": [
    "### Filter"
   ]
  },
  {
   "cell_type": "code",
   "execution_count": 102,
   "metadata": {},
   "outputs": [],
   "source": [
    "#preds_train = model.predict(L=L_train, return_probs=False)"
   ]
  },
  {
   "cell_type": "code",
   "execution_count": 103,
   "metadata": {},
   "outputs": [],
   "source": [
    "probs_train = model.predict_proba(L_train)[:, 1]"
   ]
  },
  {
   "cell_type": "code",
   "execution_count": 104,
   "metadata": {},
   "outputs": [
    {
     "data": {
      "text/plain": [
       "array([9.97783850e-01, 2.00110022e-04, 9.02104021e-01, ...,\n",
       "       9.94625923e-01, 4.64275044e-01, 3.07120292e-01])"
      ]
     },
     "execution_count": 104,
     "metadata": {},
     "output_type": "execute_result"
    }
   ],
   "source": [
    "probs_train"
   ]
  },
  {
   "cell_type": "code",
   "execution_count": 123,
   "metadata": {},
   "outputs": [
    {
     "data": {
      "text/html": [
       "<div>\n",
       "<style scoped>\n",
       "    .dataframe tbody tr th:only-of-type {\n",
       "        vertical-align: middle;\n",
       "    }\n",
       "\n",
       "    .dataframe tbody tr th {\n",
       "        vertical-align: top;\n",
       "    }\n",
       "\n",
       "    .dataframe thead th {\n",
       "        text-align: right;\n",
       "    }\n",
       "</style>\n",
       "<table border=\"1\" class=\"dataframe\">\n",
       "  <thead>\n",
       "    <tr style=\"text-align: right;\">\n",
       "      <th></th>\n",
       "      <th>text</th>\n",
       "      <th>label</th>\n",
       "      <th>snorkel_label</th>\n",
       "    </tr>\n",
       "  </thead>\n",
       "  <tbody>\n",
       "    <tr>\n",
       "      <th>0</th>\n",
       "      <td>I have to start saying it has been a long time...</td>\n",
       "      <td>1</td>\n",
       "      <td>0.997784</td>\n",
       "    </tr>\n",
       "    <tr>\n",
       "      <th>1</th>\n",
       "      <td>I thought that Mukhsin has been wonderfully wr...</td>\n",
       "      <td>1</td>\n",
       "      <td>0.000200</td>\n",
       "    </tr>\n",
       "    <tr>\n",
       "      <th>2</th>\n",
       "      <td>First of all this was not a three hour movie -...</td>\n",
       "      <td>1</td>\n",
       "      <td>0.902104</td>\n",
       "    </tr>\n",
       "    <tr>\n",
       "      <th>3</th>\n",
       "      <td>I cant understand at all why so many Godzilla ...</td>\n",
       "      <td>0</td>\n",
       "      <td>0.000028</td>\n",
       "    </tr>\n",
       "    <tr>\n",
       "      <th>5</th>\n",
       "      <td>\"Hatred of a Minute\" is arguably one of the be...</td>\n",
       "      <td>1</td>\n",
       "      <td>0.995177</td>\n",
       "    </tr>\n",
       "    <tr>\n",
       "      <th>...</th>\n",
       "      <td>...</td>\n",
       "      <td>...</td>\n",
       "      <td>...</td>\n",
       "    </tr>\n",
       "    <tr>\n",
       "      <th>24994</th>\n",
       "      <td>I agree with other users comments in that the ...</td>\n",
       "      <td>0</td>\n",
       "      <td>0.000200</td>\n",
       "    </tr>\n",
       "    <tr>\n",
       "      <th>24995</th>\n",
       "      <td>This movie is about this wimpy guy who decides...</td>\n",
       "      <td>1</td>\n",
       "      <td>0.085249</td>\n",
       "    </tr>\n",
       "    <tr>\n",
       "      <th>24997</th>\n",
       "      <td>I really enjoyed The 60's. Not being of that g...</td>\n",
       "      <td>1</td>\n",
       "      <td>0.994626</td>\n",
       "    </tr>\n",
       "    <tr>\n",
       "      <th>24998</th>\n",
       "      <td>While on a vacation at the beach, red-haired b...</td>\n",
       "      <td>0</td>\n",
       "      <td>0.464275</td>\n",
       "    </tr>\n",
       "    <tr>\n",
       "      <th>24999</th>\n",
       "      <td>I saw \"El Mar\" yesterday and thought it to be ...</td>\n",
       "      <td>1</td>\n",
       "      <td>0.307120</td>\n",
       "    </tr>\n",
       "  </tbody>\n",
       "</table>\n",
       "<p>24016 rows × 3 columns</p>\n",
       "</div>"
      ],
      "text/plain": [
       "                                                    text  label  snorkel_label\n",
       "0      I have to start saying it has been a long time...      1       0.997784\n",
       "1      I thought that Mukhsin has been wonderfully wr...      1       0.000200\n",
       "2      First of all this was not a three hour movie -...      1       0.902104\n",
       "3      I cant understand at all why so many Godzilla ...      0       0.000028\n",
       "5      \"Hatred of a Minute\" is arguably one of the be...      1       0.995177\n",
       "...                                                  ...    ...            ...\n",
       "24994  I agree with other users comments in that the ...      0       0.000200\n",
       "24995  This movie is about this wimpy guy who decides...      1       0.085249\n",
       "24997  I really enjoyed The 60's. Not being of that g...      1       0.994626\n",
       "24998  While on a vacation at the beach, red-haired b...      0       0.464275\n",
       "24999  I saw \"El Mar\" yesterday and thought it to be ...      1       0.307120\n",
       "\n",
       "[24016 rows x 3 columns]"
      ]
     },
     "execution_count": 123,
     "metadata": {},
     "output_type": "execute_result"
    }
   ],
   "source": [
    "df = train_df.copy()\n",
    "df['snorkel_label'] = probs_train\n",
    "df"
   ]
  },
  {
   "cell_type": "code",
   "execution_count": 124,
   "metadata": {},
   "outputs": [],
   "source": [
    "#df = df[df['snorkel_label'] != 0.5]\n",
    "df = pd.concat([df[df['snorkel_label'] > 0.6], df[df['snorkel_label'] < 0.4]])"
   ]
  },
  {
   "cell_type": "code",
   "execution_count": 125,
   "metadata": {},
   "outputs": [
    {
     "data": {
      "text/html": [
       "<div>\n",
       "<style scoped>\n",
       "    .dataframe tbody tr th:only-of-type {\n",
       "        vertical-align: middle;\n",
       "    }\n",
       "\n",
       "    .dataframe tbody tr th {\n",
       "        vertical-align: top;\n",
       "    }\n",
       "\n",
       "    .dataframe thead th {\n",
       "        text-align: right;\n",
       "    }\n",
       "</style>\n",
       "<table border=\"1\" class=\"dataframe\">\n",
       "  <thead>\n",
       "    <tr style=\"text-align: right;\">\n",
       "      <th></th>\n",
       "      <th>text</th>\n",
       "      <th>label</th>\n",
       "      <th>snorkel_label</th>\n",
       "    </tr>\n",
       "  </thead>\n",
       "  <tbody>\n",
       "    <tr>\n",
       "      <th>0</th>\n",
       "      <td>I have to start saying it has been a long time...</td>\n",
       "      <td>1</td>\n",
       "      <td>0.997784</td>\n",
       "    </tr>\n",
       "    <tr>\n",
       "      <th>2</th>\n",
       "      <td>First of all this was not a three hour movie -...</td>\n",
       "      <td>1</td>\n",
       "      <td>0.902104</td>\n",
       "    </tr>\n",
       "    <tr>\n",
       "      <th>5</th>\n",
       "      <td>\"Hatred of a Minute\" is arguably one of the be...</td>\n",
       "      <td>1</td>\n",
       "      <td>0.995177</td>\n",
       "    </tr>\n",
       "    <tr>\n",
       "      <th>6</th>\n",
       "      <td>I'm tired of people judging films on their \"hi...</td>\n",
       "      <td>1</td>\n",
       "      <td>0.999889</td>\n",
       "    </tr>\n",
       "    <tr>\n",
       "      <th>9</th>\n",
       "      <td>Cannot believe my eyes when read quite a bunch...</td>\n",
       "      <td>1</td>\n",
       "      <td>0.659586</td>\n",
       "    </tr>\n",
       "    <tr>\n",
       "      <th>...</th>\n",
       "      <td>...</td>\n",
       "      <td>...</td>\n",
       "      <td>...</td>\n",
       "    </tr>\n",
       "    <tr>\n",
       "      <th>24990</th>\n",
       "      <td>this film really tries to hard. if your going ...</td>\n",
       "      <td>0</td>\n",
       "      <td>0.041364</td>\n",
       "    </tr>\n",
       "    <tr>\n",
       "      <th>24992</th>\n",
       "      <td>The 1930s saw a vogue for documentary films ab...</td>\n",
       "      <td>0</td>\n",
       "      <td>0.021586</td>\n",
       "    </tr>\n",
       "    <tr>\n",
       "      <th>24994</th>\n",
       "      <td>I agree with other users comments in that the ...</td>\n",
       "      <td>0</td>\n",
       "      <td>0.000200</td>\n",
       "    </tr>\n",
       "    <tr>\n",
       "      <th>24995</th>\n",
       "      <td>This movie is about this wimpy guy who decides...</td>\n",
       "      <td>1</td>\n",
       "      <td>0.085249</td>\n",
       "    </tr>\n",
       "    <tr>\n",
       "      <th>24999</th>\n",
       "      <td>I saw \"El Mar\" yesterday and thought it to be ...</td>\n",
       "      <td>1</td>\n",
       "      <td>0.307120</td>\n",
       "    </tr>\n",
       "  </tbody>\n",
       "</table>\n",
       "<p>22652 rows × 3 columns</p>\n",
       "</div>"
      ],
      "text/plain": [
       "                                                    text  label  snorkel_label\n",
       "0      I have to start saying it has been a long time...      1       0.997784\n",
       "2      First of all this was not a three hour movie -...      1       0.902104\n",
       "5      \"Hatred of a Minute\" is arguably one of the be...      1       0.995177\n",
       "6      I'm tired of people judging films on their \"hi...      1       0.999889\n",
       "9      Cannot believe my eyes when read quite a bunch...      1       0.659586\n",
       "...                                                  ...    ...            ...\n",
       "24990  this film really tries to hard. if your going ...      0       0.041364\n",
       "24992  The 1930s saw a vogue for documentary films ab...      0       0.021586\n",
       "24994  I agree with other users comments in that the ...      0       0.000200\n",
       "24995  This movie is about this wimpy guy who decides...      1       0.085249\n",
       "24999  I saw \"El Mar\" yesterday and thought it to be ...      1       0.307120\n",
       "\n",
       "[22652 rows x 3 columns]"
      ]
     },
     "execution_count": 125,
     "metadata": {},
     "output_type": "execute_result"
    }
   ],
   "source": [
    "df"
   ]
  },
  {
   "cell_type": "markdown",
   "metadata": {},
   "source": [
    "## Label Quality Analysis"
   ]
  },
  {
   "cell_type": "code",
   "execution_count": 84,
   "metadata": {},
   "outputs": [],
   "source": [
    "from sklearn.metrics import classification_report"
   ]
  },
  {
   "cell_type": "code",
   "execution_count": 85,
   "metadata": {},
   "outputs": [
    {
     "ename": "ValueError",
     "evalue": "Classification metrics can't handle a mix of binary and continuous targets",
     "output_type": "error",
     "traceback": [
      "\u001b[0;31m---------------------------------------------------------------------------\u001b[0m",
      "\u001b[0;31mValueError\u001b[0m                                Traceback (most recent call last)",
      "\u001b[0;32m<ipython-input-85-c88c3dc9ec94>\u001b[0m in \u001b[0;36m<module>\u001b[0;34m\u001b[0m\n\u001b[0;32m----> 1\u001b[0;31m \u001b[0mprint\u001b[0m\u001b[0;34m(\u001b[0m\u001b[0mclassification_report\u001b[0m\u001b[0;34m(\u001b[0m\u001b[0mlist\u001b[0m\u001b[0;34m(\u001b[0m\u001b[0mdf\u001b[0m\u001b[0;34m[\u001b[0m\u001b[0;34m'label'\u001b[0m\u001b[0;34m]\u001b[0m\u001b[0;34m)\u001b[0m\u001b[0;34m,\u001b[0m \u001b[0mlist\u001b[0m\u001b[0;34m(\u001b[0m\u001b[0mdf\u001b[0m\u001b[0;34m[\u001b[0m\u001b[0;34m'snorkel_label'\u001b[0m\u001b[0;34m]\u001b[0m\u001b[0;34m)\u001b[0m\u001b[0;34m)\u001b[0m\u001b[0;34m)\u001b[0m\u001b[0;34m\u001b[0m\u001b[0;34m\u001b[0m\u001b[0m\n\u001b[0m",
      "\u001b[0;32m~/miniconda3/envs/snorkel/lib/python3.6/site-packages/sklearn/metrics/classification.py\u001b[0m in \u001b[0;36mclassification_report\u001b[0;34m(y_true, y_pred, labels, target_names, sample_weight, digits, output_dict)\u001b[0m\n\u001b[1;32m   1850\u001b[0m     \"\"\"\n\u001b[1;32m   1851\u001b[0m \u001b[0;34m\u001b[0m\u001b[0m\n\u001b[0;32m-> 1852\u001b[0;31m     \u001b[0my_type\u001b[0m\u001b[0;34m,\u001b[0m \u001b[0my_true\u001b[0m\u001b[0;34m,\u001b[0m \u001b[0my_pred\u001b[0m \u001b[0;34m=\u001b[0m \u001b[0m_check_targets\u001b[0m\u001b[0;34m(\u001b[0m\u001b[0my_true\u001b[0m\u001b[0;34m,\u001b[0m \u001b[0my_pred\u001b[0m\u001b[0;34m)\u001b[0m\u001b[0;34m\u001b[0m\u001b[0;34m\u001b[0m\u001b[0m\n\u001b[0m\u001b[1;32m   1853\u001b[0m \u001b[0;34m\u001b[0m\u001b[0m\n\u001b[1;32m   1854\u001b[0m     \u001b[0mlabels_given\u001b[0m \u001b[0;34m=\u001b[0m \u001b[0;32mTrue\u001b[0m\u001b[0;34m\u001b[0m\u001b[0;34m\u001b[0m\u001b[0m\n",
      "\u001b[0;32m~/miniconda3/envs/snorkel/lib/python3.6/site-packages/sklearn/metrics/classification.py\u001b[0m in \u001b[0;36m_check_targets\u001b[0;34m(y_true, y_pred)\u001b[0m\n\u001b[1;32m     79\u001b[0m     \u001b[0;32mif\u001b[0m \u001b[0mlen\u001b[0m\u001b[0;34m(\u001b[0m\u001b[0my_type\u001b[0m\u001b[0;34m)\u001b[0m \u001b[0;34m>\u001b[0m \u001b[0;36m1\u001b[0m\u001b[0;34m:\u001b[0m\u001b[0;34m\u001b[0m\u001b[0;34m\u001b[0m\u001b[0m\n\u001b[1;32m     80\u001b[0m         raise ValueError(\"Classification metrics can't handle a mix of {0} \"\n\u001b[0;32m---> 81\u001b[0;31m                          \"and {1} targets\".format(type_true, type_pred))\n\u001b[0m\u001b[1;32m     82\u001b[0m \u001b[0;34m\u001b[0m\u001b[0m\n\u001b[1;32m     83\u001b[0m     \u001b[0;31m# We can't have more than one value on y_type => The set is no more needed\u001b[0m\u001b[0;34m\u001b[0m\u001b[0;34m\u001b[0m\u001b[0;34m\u001b[0m\u001b[0m\n",
      "\u001b[0;31mValueError\u001b[0m: Classification metrics can't handle a mix of binary and continuous targets"
     ]
    }
   ],
   "source": [
    "print(classification_report(list(df['label']), list(df['snorkel_label'])))"
   ]
  },
  {
   "cell_type": "markdown",
   "metadata": {},
   "source": [
    "## Export dataframe"
   ]
  },
  {
   "cell_type": "code",
   "execution_count": 129,
   "metadata": {
    "scrolled": true
   },
   "outputs": [
    {
     "data": {
      "text/html": [
       "<div>\n",
       "<style scoped>\n",
       "    .dataframe tbody tr th:only-of-type {\n",
       "        vertical-align: middle;\n",
       "    }\n",
       "\n",
       "    .dataframe tbody tr th {\n",
       "        vertical-align: top;\n",
       "    }\n",
       "\n",
       "    .dataframe thead th {\n",
       "        text-align: right;\n",
       "    }\n",
       "</style>\n",
       "<table border=\"1\" class=\"dataframe\">\n",
       "  <thead>\n",
       "    <tr style=\"text-align: right;\">\n",
       "      <th></th>\n",
       "      <th>text</th>\n",
       "      <th>snorkel_label</th>\n",
       "    </tr>\n",
       "  </thead>\n",
       "  <tbody>\n",
       "    <tr>\n",
       "      <th>0</th>\n",
       "      <td>I have to start saying it has been a long time...</td>\n",
       "      <td>0.997784</td>\n",
       "    </tr>\n",
       "    <tr>\n",
       "      <th>2</th>\n",
       "      <td>First of all this was not a three hour movie -...</td>\n",
       "      <td>0.902104</td>\n",
       "    </tr>\n",
       "    <tr>\n",
       "      <th>5</th>\n",
       "      <td>\"Hatred of a Minute\" is arguably one of the be...</td>\n",
       "      <td>0.995177</td>\n",
       "    </tr>\n",
       "    <tr>\n",
       "      <th>6</th>\n",
       "      <td>I'm tired of people judging films on their \"hi...</td>\n",
       "      <td>0.999889</td>\n",
       "    </tr>\n",
       "    <tr>\n",
       "      <th>9</th>\n",
       "      <td>Cannot believe my eyes when read quite a bunch...</td>\n",
       "      <td>0.659586</td>\n",
       "    </tr>\n",
       "    <tr>\n",
       "      <th>...</th>\n",
       "      <td>...</td>\n",
       "      <td>...</td>\n",
       "    </tr>\n",
       "    <tr>\n",
       "      <th>24990</th>\n",
       "      <td>this film really tries to hard. if your going ...</td>\n",
       "      <td>0.041364</td>\n",
       "    </tr>\n",
       "    <tr>\n",
       "      <th>24992</th>\n",
       "      <td>The 1930s saw a vogue for documentary films ab...</td>\n",
       "      <td>0.021586</td>\n",
       "    </tr>\n",
       "    <tr>\n",
       "      <th>24994</th>\n",
       "      <td>I agree with other users comments in that the ...</td>\n",
       "      <td>0.000200</td>\n",
       "    </tr>\n",
       "    <tr>\n",
       "      <th>24995</th>\n",
       "      <td>This movie is about this wimpy guy who decides...</td>\n",
       "      <td>0.085249</td>\n",
       "    </tr>\n",
       "    <tr>\n",
       "      <th>24999</th>\n",
       "      <td>I saw \"El Mar\" yesterday and thought it to be ...</td>\n",
       "      <td>0.307120</td>\n",
       "    </tr>\n",
       "  </tbody>\n",
       "</table>\n",
       "<p>22652 rows × 2 columns</p>\n",
       "</div>"
      ],
      "text/plain": [
       "                                                    text  snorkel_label\n",
       "0      I have to start saying it has been a long time...       0.997784\n",
       "2      First of all this was not a three hour movie -...       0.902104\n",
       "5      \"Hatred of a Minute\" is arguably one of the be...       0.995177\n",
       "6      I'm tired of people judging films on their \"hi...       0.999889\n",
       "9      Cannot believe my eyes when read quite a bunch...       0.659586\n",
       "...                                                  ...            ...\n",
       "24990  this film really tries to hard. if your going ...       0.041364\n",
       "24992  The 1930s saw a vogue for documentary films ab...       0.021586\n",
       "24994  I agree with other users comments in that the ...       0.000200\n",
       "24995  This movie is about this wimpy guy who decides...       0.085249\n",
       "24999  I saw \"El Mar\" yesterday and thought it to be ...       0.307120\n",
       "\n",
       "[22652 rows x 2 columns]"
      ]
     },
     "execution_count": 129,
     "metadata": {},
     "output_type": "execute_result"
    }
   ],
   "source": [
    "df = df.drop(columns=['label'])\n",
    "df"
   ]
  },
  {
   "cell_type": "markdown",
   "metadata": {},
   "source": [
    "### Merging labels"
   ]
  },
  {
   "cell_type": "code",
   "execution_count": 39,
   "metadata": {},
   "outputs": [
    {
     "data": {
      "text/html": [
       "<div>\n",
       "<style scoped>\n",
       "    .dataframe tbody tr th:only-of-type {\n",
       "        vertical-align: middle;\n",
       "    }\n",
       "\n",
       "    .dataframe tbody tr th {\n",
       "        vertical-align: top;\n",
       "    }\n",
       "\n",
       "    .dataframe thead th {\n",
       "        text-align: right;\n",
       "    }\n",
       "</style>\n",
       "<table border=\"1\" class=\"dataframe\">\n",
       "  <thead>\n",
       "    <tr style=\"text-align: right;\">\n",
       "      <th></th>\n",
       "      <th>text</th>\n",
       "      <th>label</th>\n",
       "    </tr>\n",
       "  </thead>\n",
       "  <tbody>\n",
       "    <tr>\n",
       "      <th>0</th>\n",
       "      <td>I have to start saying it has been a long time...</td>\n",
       "      <td>1</td>\n",
       "    </tr>\n",
       "    <tr>\n",
       "      <th>1</th>\n",
       "      <td>I thought that Mukhsin has been wonderfully wr...</td>\n",
       "      <td>0</td>\n",
       "    </tr>\n",
       "    <tr>\n",
       "      <th>3</th>\n",
       "      <td>I cant understand at all why so many Godzilla ...</td>\n",
       "      <td>0</td>\n",
       "    </tr>\n",
       "    <tr>\n",
       "      <th>5</th>\n",
       "      <td>\"Hatred of a Minute\" is arguably one of the be...</td>\n",
       "      <td>1</td>\n",
       "    </tr>\n",
       "    <tr>\n",
       "      <th>6</th>\n",
       "      <td>I'm tired of people judging films on their \"hi...</td>\n",
       "      <td>1</td>\n",
       "    </tr>\n",
       "    <tr>\n",
       "      <th>...</th>\n",
       "      <td>...</td>\n",
       "      <td>...</td>\n",
       "    </tr>\n",
       "    <tr>\n",
       "      <th>24992</th>\n",
       "      <td>The 1930s saw a vogue for documentary films ab...</td>\n",
       "      <td>0</td>\n",
       "    </tr>\n",
       "    <tr>\n",
       "      <th>24993</th>\n",
       "      <td>I managed to catch a late night double feature...</td>\n",
       "      <td>1</td>\n",
       "    </tr>\n",
       "    <tr>\n",
       "      <th>24994</th>\n",
       "      <td>I agree with other users comments in that the ...</td>\n",
       "      <td>0</td>\n",
       "    </tr>\n",
       "    <tr>\n",
       "      <th>24995</th>\n",
       "      <td>This movie is about this wimpy guy who decides...</td>\n",
       "      <td>0</td>\n",
       "    </tr>\n",
       "    <tr>\n",
       "      <th>24997</th>\n",
       "      <td>I really enjoyed The 60's. Not being of that g...</td>\n",
       "      <td>1</td>\n",
       "    </tr>\n",
       "  </tbody>\n",
       "</table>\n",
       "<p>21153 rows × 2 columns</p>\n",
       "</div>"
      ],
      "text/plain": [
       "                                                    text  label\n",
       "0      I have to start saying it has been a long time...      1\n",
       "1      I thought that Mukhsin has been wonderfully wr...      0\n",
       "3      I cant understand at all why so many Godzilla ...      0\n",
       "5      \"Hatred of a Minute\" is arguably one of the be...      1\n",
       "6      I'm tired of people judging films on their \"hi...      1\n",
       "...                                                  ...    ...\n",
       "24992  The 1930s saw a vogue for documentary films ab...      0\n",
       "24993  I managed to catch a late night double feature...      1\n",
       "24994  I agree with other users comments in that the ...      0\n",
       "24995  This movie is about this wimpy guy who decides...      0\n",
       "24997  I really enjoyed The 60's. Not being of that g...      1\n",
       "\n",
       "[21153 rows x 2 columns]"
      ]
     },
     "execution_count": 39,
     "metadata": {},
     "output_type": "execute_result"
    }
   ],
   "source": [
    "df = df.rename(columns={\"snorkel_label\": \"label\"})\n",
    "df"
   ]
  },
  {
   "cell_type": "code",
   "execution_count": 40,
   "metadata": {},
   "outputs": [
    {
     "data": {
      "text/html": [
       "<div>\n",
       "<style scoped>\n",
       "    .dataframe tbody tr th:only-of-type {\n",
       "        vertical-align: middle;\n",
       "    }\n",
       "\n",
       "    .dataframe tbody tr th {\n",
       "        vertical-align: top;\n",
       "    }\n",
       "\n",
       "    .dataframe thead th {\n",
       "        text-align: right;\n",
       "    }\n",
       "</style>\n",
       "<table border=\"1\" class=\"dataframe\">\n",
       "  <thead>\n",
       "    <tr style=\"text-align: right;\">\n",
       "      <th></th>\n",
       "      <th>text</th>\n",
       "      <th>label</th>\n",
       "    </tr>\n",
       "  </thead>\n",
       "  <tbody>\n",
       "    <tr>\n",
       "      <th>0</th>\n",
       "      <td>It's beyond my comprehension that so much rubb...</td>\n",
       "      <td>1</td>\n",
       "    </tr>\n",
       "    <tr>\n",
       "      <th>1</th>\n",
       "      <td>'What I Like About You' is definitely a show t...</td>\n",
       "      <td>1</td>\n",
       "    </tr>\n",
       "    <tr>\n",
       "      <th>2</th>\n",
       "      <td>ELVIRA, MISTRESS OF THE DARK (1988)  directed ...</td>\n",
       "      <td>1</td>\n",
       "    </tr>\n",
       "    <tr>\n",
       "      <th>3</th>\n",
       "      <td>This is one of the most spiritual movies I hav...</td>\n",
       "      <td>1</td>\n",
       "    </tr>\n",
       "    <tr>\n",
       "      <th>4</th>\n",
       "      <td>Man With the Gun is pretty much forgotten now,...</td>\n",
       "      <td>1</td>\n",
       "    </tr>\n",
       "    <tr>\n",
       "      <th>...</th>\n",
       "      <td>...</td>\n",
       "      <td>...</td>\n",
       "    </tr>\n",
       "    <tr>\n",
       "      <th>24992</th>\n",
       "      <td>The 1930s saw a vogue for documentary films ab...</td>\n",
       "      <td>0</td>\n",
       "    </tr>\n",
       "    <tr>\n",
       "      <th>24993</th>\n",
       "      <td>I managed to catch a late night double feature...</td>\n",
       "      <td>1</td>\n",
       "    </tr>\n",
       "    <tr>\n",
       "      <th>24994</th>\n",
       "      <td>I agree with other users comments in that the ...</td>\n",
       "      <td>0</td>\n",
       "    </tr>\n",
       "    <tr>\n",
       "      <th>24995</th>\n",
       "      <td>This movie is about this wimpy guy who decides...</td>\n",
       "      <td>0</td>\n",
       "    </tr>\n",
       "    <tr>\n",
       "      <th>24997</th>\n",
       "      <td>I really enjoyed The 60's. Not being of that g...</td>\n",
       "      <td>1</td>\n",
       "    </tr>\n",
       "  </tbody>\n",
       "</table>\n",
       "<p>21953 rows × 2 columns</p>\n",
       "</div>"
      ],
      "text/plain": [
       "                                                    text  label\n",
       "0      It's beyond my comprehension that so much rubb...      1\n",
       "1      'What I Like About You' is definitely a show t...      1\n",
       "2      ELVIRA, MISTRESS OF THE DARK (1988)  directed ...      1\n",
       "3      This is one of the most spiritual movies I hav...      1\n",
       "4      Man With the Gun is pretty much forgotten now,...      1\n",
       "...                                                  ...    ...\n",
       "24992  The 1930s saw a vogue for documentary films ab...      0\n",
       "24993  I managed to catch a late night double feature...      1\n",
       "24994  I agree with other users comments in that the ...      0\n",
       "24995  This movie is about this wimpy guy who decides...      0\n",
       "24997  I really enjoyed The 60's. Not being of that g...      1\n",
       "\n",
       "[21953 rows x 2 columns]"
      ]
     },
     "execution_count": 40,
     "metadata": {},
     "output_type": "execute_result"
    }
   ],
   "source": [
    "df = pd.concat([sdev_df, df])\n",
    "df"
   ]
  },
  {
   "cell_type": "code",
   "execution_count": 130,
   "metadata": {},
   "outputs": [],
   "source": [
    "export_path = '../imdb-data/wd04.csv'\n",
    "df.to_csv(export_path, header=False, index=False)"
   ]
  },
  {
   "cell_type": "code",
   "execution_count": null,
   "metadata": {},
   "outputs": [],
   "source": []
  },
  {
   "cell_type": "code",
   "execution_count": null,
   "metadata": {},
   "outputs": [],
   "source": []
  }
 ],
 "metadata": {
  "kernelspec": {
   "display_name": "Python 3",
   "language": "python",
   "name": "python3"
  },
  "language_info": {
   "codemirror_mode": {
    "name": "ipython",
    "version": 3
   },
   "file_extension": ".py",
   "mimetype": "text/x-python",
   "name": "python",
   "nbconvert_exporter": "python",
   "pygments_lexer": "ipython3",
   "version": "3.6.9"
  }
 },
 "nbformat": 4,
 "nbformat_minor": 2
}
