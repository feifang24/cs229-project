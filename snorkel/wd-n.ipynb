{
 "cells": [
  {
   "cell_type": "code",
   "execution_count": 1,
   "metadata": {},
   "outputs": [],
   "source": [
    "import pandas as pd\n",
    "import numpy as np\n",
    "import os\n",
    "import re"
   ]
  },
  {
   "cell_type": "markdown",
   "metadata": {},
   "source": [
    "## Loading data"
   ]
  },
  {
   "cell_type": "code",
   "execution_count": 2,
   "metadata": {},
   "outputs": [],
   "source": [
    "# load data into pandas\n",
    "def read_data(dir_path):\n",
    "    examples = []\n",
    "    for filename in os.listdir(dir_path):\n",
    "        if not filename.endswith(\"txt\"):\n",
    "            continue\n",
    "        keys = filename.split(\".\")[0].split(\"_\")\n",
    "        assert len(keys) == 3\n",
    "        # keys is [id, label, review_score]. For now we are only interested in the label\n",
    "        label = keys[1]\n",
    "        with open(os.path.join(dir_path, filename)) as f:\n",
    "            text = f.read().strip().replace(\"<br />\", \" \")\n",
    "        examples.append([text, 1 if label == 'pos' else 0])\n",
    "    return examples"
   ]
  },
  {
   "cell_type": "code",
   "execution_count": 3,
   "metadata": {},
   "outputs": [],
   "source": [
    "DEV_SIZE = 800"
   ]
  },
  {
   "cell_type": "code",
   "execution_count": 4,
   "metadata": {
    "scrolled": true
   },
   "outputs": [
    {
     "data": {
      "text/html": [
       "<div>\n",
       "<style scoped>\n",
       "    .dataframe tbody tr th:only-of-type {\n",
       "        vertical-align: middle;\n",
       "    }\n",
       "\n",
       "    .dataframe tbody tr th {\n",
       "        vertical-align: top;\n",
       "    }\n",
       "\n",
       "    .dataframe thead th {\n",
       "        text-align: right;\n",
       "    }\n",
       "</style>\n",
       "<table border=\"1\" class=\"dataframe\">\n",
       "  <thead>\n",
       "    <tr style=\"text-align: right;\">\n",
       "      <th></th>\n",
       "      <th>text</th>\n",
       "      <th>label</th>\n",
       "    </tr>\n",
       "  </thead>\n",
       "  <tbody>\n",
       "    <tr>\n",
       "      <th>0</th>\n",
       "      <td>It's beyond my comprehension that so much rubb...</td>\n",
       "      <td>1</td>\n",
       "    </tr>\n",
       "    <tr>\n",
       "      <th>1</th>\n",
       "      <td>'What I Like About You' is definitely a show t...</td>\n",
       "      <td>1</td>\n",
       "    </tr>\n",
       "    <tr>\n",
       "      <th>2</th>\n",
       "      <td>ELVIRA, MISTRESS OF THE DARK (1988)  directed ...</td>\n",
       "      <td>1</td>\n",
       "    </tr>\n",
       "    <tr>\n",
       "      <th>3</th>\n",
       "      <td>This is one of the most spiritual movies I hav...</td>\n",
       "      <td>1</td>\n",
       "    </tr>\n",
       "    <tr>\n",
       "      <th>4</th>\n",
       "      <td>Man With the Gun is pretty much forgotten now,...</td>\n",
       "      <td>1</td>\n",
       "    </tr>\n",
       "    <tr>\n",
       "      <th>...</th>\n",
       "      <td>...</td>\n",
       "      <td>...</td>\n",
       "    </tr>\n",
       "    <tr>\n",
       "      <th>795</th>\n",
       "      <td>Police Story is one of Jackie Chan's classic f...</td>\n",
       "      <td>1</td>\n",
       "    </tr>\n",
       "    <tr>\n",
       "      <th>796</th>\n",
       "      <td>If you need cheering up on a cold weekday even...</td>\n",
       "      <td>1</td>\n",
       "    </tr>\n",
       "    <tr>\n",
       "      <th>797</th>\n",
       "      <td>A wonderful early musical film from Rene Clair...</td>\n",
       "      <td>1</td>\n",
       "    </tr>\n",
       "    <tr>\n",
       "      <th>798</th>\n",
       "      <td>A light-hearted comedy, Nothing shows us a wor...</td>\n",
       "      <td>1</td>\n",
       "    </tr>\n",
       "    <tr>\n",
       "      <th>799</th>\n",
       "      <td>**Warning! Spoilers Ahead!**  This short is pa...</td>\n",
       "      <td>1</td>\n",
       "    </tr>\n",
       "  </tbody>\n",
       "</table>\n",
       "<p>800 rows × 2 columns</p>\n",
       "</div>"
      ],
      "text/plain": [
       "                                                  text  label\n",
       "0    It's beyond my comprehension that so much rubb...      1\n",
       "1    'What I Like About You' is definitely a show t...      1\n",
       "2    ELVIRA, MISTRESS OF THE DARK (1988)  directed ...      1\n",
       "3    This is one of the most spiritual movies I hav...      1\n",
       "4    Man With the Gun is pretty much forgotten now,...      1\n",
       "..                                                 ...    ...\n",
       "795  Police Story is one of Jackie Chan's classic f...      1\n",
       "796  If you need cheering up on a cold weekday even...      1\n",
       "797  A wonderful early musical film from Rene Clair...      1\n",
       "798  A light-hearted comedy, Nothing shows us a wor...      1\n",
       "799  **Warning! Spoilers Ahead!**  This short is pa...      1\n",
       "\n",
       "[800 rows x 2 columns]"
      ]
     },
     "execution_count": 4,
     "metadata": {},
     "output_type": "execute_result"
    }
   ],
   "source": [
    "SDEV_DIR = '../imdb-data/sd{}'.format(DEV_SIZE)\n",
    "sdev_data = read_data(SDEV_DIR)\n",
    "sdev_df = pd.DataFrame(sdev_data, columns=['text', 'label'])\n",
    "sdev_df"
   ]
  },
  {
   "cell_type": "code",
   "execution_count": 5,
   "metadata": {},
   "outputs": [
    {
     "data": {
      "text/html": [
       "<div>\n",
       "<style scoped>\n",
       "    .dataframe tbody tr th:only-of-type {\n",
       "        vertical-align: middle;\n",
       "    }\n",
       "\n",
       "    .dataframe tbody tr th {\n",
       "        vertical-align: top;\n",
       "    }\n",
       "\n",
       "    .dataframe thead th {\n",
       "        text-align: right;\n",
       "    }\n",
       "</style>\n",
       "<table border=\"1\" class=\"dataframe\">\n",
       "  <thead>\n",
       "    <tr style=\"text-align: right;\">\n",
       "      <th></th>\n",
       "      <th>text</th>\n",
       "      <th>label</th>\n",
       "    </tr>\n",
       "  </thead>\n",
       "  <tbody>\n",
       "    <tr>\n",
       "      <th>0</th>\n",
       "      <td>I have to start saying it has been a long time...</td>\n",
       "      <td>1</td>\n",
       "    </tr>\n",
       "    <tr>\n",
       "      <th>1</th>\n",
       "      <td>I thought that Mukhsin has been wonderfully wr...</td>\n",
       "      <td>1</td>\n",
       "    </tr>\n",
       "    <tr>\n",
       "      <th>2</th>\n",
       "      <td>First of all this was not a three hour movie -...</td>\n",
       "      <td>1</td>\n",
       "    </tr>\n",
       "    <tr>\n",
       "      <th>3</th>\n",
       "      <td>I cant understand at all why so many Godzilla ...</td>\n",
       "      <td>0</td>\n",
       "    </tr>\n",
       "    <tr>\n",
       "      <th>5</th>\n",
       "      <td>\"Hatred of a Minute\" is arguably one of the be...</td>\n",
       "      <td>1</td>\n",
       "    </tr>\n",
       "    <tr>\n",
       "      <th>...</th>\n",
       "      <td>...</td>\n",
       "      <td>...</td>\n",
       "    </tr>\n",
       "    <tr>\n",
       "      <th>24994</th>\n",
       "      <td>I agree with other users comments in that the ...</td>\n",
       "      <td>0</td>\n",
       "    </tr>\n",
       "    <tr>\n",
       "      <th>24995</th>\n",
       "      <td>This movie is about this wimpy guy who decides...</td>\n",
       "      <td>1</td>\n",
       "    </tr>\n",
       "    <tr>\n",
       "      <th>24997</th>\n",
       "      <td>I really enjoyed The 60's. Not being of that g...</td>\n",
       "      <td>1</td>\n",
       "    </tr>\n",
       "    <tr>\n",
       "      <th>24998</th>\n",
       "      <td>While on a vacation at the beach, red-haired b...</td>\n",
       "      <td>0</td>\n",
       "    </tr>\n",
       "    <tr>\n",
       "      <th>24999</th>\n",
       "      <td>I saw \"El Mar\" yesterday and thought it to be ...</td>\n",
       "      <td>1</td>\n",
       "    </tr>\n",
       "  </tbody>\n",
       "</table>\n",
       "<p>24016 rows × 2 columns</p>\n",
       "</div>"
      ],
      "text/plain": [
       "                                                    text  label\n",
       "0      I have to start saying it has been a long time...      1\n",
       "1      I thought that Mukhsin has been wonderfully wr...      1\n",
       "2      First of all this was not a three hour movie -...      1\n",
       "3      I cant understand at all why so many Godzilla ...      0\n",
       "5      \"Hatred of a Minute\" is arguably one of the be...      1\n",
       "...                                                  ...    ...\n",
       "24994  I agree with other users comments in that the ...      0\n",
       "24995  This movie is about this wimpy guy who decides...      1\n",
       "24997  I really enjoyed The 60's. Not being of that g...      1\n",
       "24998  While on a vacation at the beach, red-haired b...      0\n",
       "24999  I saw \"El Mar\" yesterday and thought it to be ...      1\n",
       "\n",
       "[24016 rows x 2 columns]"
      ]
     },
     "execution_count": 5,
     "metadata": {},
     "output_type": "execute_result"
    }
   ],
   "source": [
    "from sklearn.model_selection import train_test_split\n",
    "\n",
    "TRAIN_DIR = '../imdb-data/og'\n",
    "train_data = read_data(TRAIN_DIR)\n",
    "\n",
    "all_train_df = pd.DataFrame(train_data, columns=['text', 'label'])\n",
    "train_df = pd.concat([all_train_df, sdev_df]).drop_duplicates(keep=False)\n",
    "train_df"
   ]
  },
  {
   "cell_type": "markdown",
   "metadata": {},
   "source": [
    "## Get most indicative words using Naive Bayes on sdevset"
   ]
  },
  {
   "cell_type": "code",
   "execution_count": 6,
   "metadata": {},
   "outputs": [
    {
     "name": "stdout",
     "output_type": "stream",
     "text": [
      "Size of dictionary:  3064\n"
     ]
    }
   ],
   "source": [
    "from naive_bayes.imdb import return_keywords_indices\n",
    "\n",
    "all_words, most_pos_indices, most_neg_indices = return_keywords_indices(sdev_data)"
   ]
  },
  {
   "cell_type": "code",
   "execution_count": 7,
   "metadata": {},
   "outputs": [],
   "source": [
    "NUM_KEYWORDS = 50\n",
    "\n",
    "top_pos_words = [all_words[ind] for ind in most_pos_indices[:NUM_KEYWORDS]]\n",
    "top_neg_words = [all_words[ind] for ind in most_neg_indices[:NUM_KEYWORDS]]"
   ]
  },
  {
   "cell_type": "code",
   "execution_count": 8,
   "metadata": {
    "scrolled": true
   },
   "outputs": [
    {
     "name": "stdout",
     "output_type": "stream",
     "text": [
      "Top pos words:\n",
      "['eddie', 'jackie', 'douglas', 'everyday', 'stands', 'cold', 'ned', 'wonderful', 'built', 'wonderfully', 'spy', 'thrillers', 'professional', 'finest', 'gorgeous', 'wall', 'daniel', 'delightful', 'saturday', 'genuine', 'lonely', 'captures', 'glory', 'adapted', 'quiet', 'california', 'develops', 'captivating', 'counter', 'lucky', 'uncut', 'studios', 'strength', 'stunning', 'paris', 'flight', 'gordon', 'sentimental', 'melodrama', 'portrait', 'lovers', 'mrs', 'underground', 'critical', 'covered', 'brilliantly', 'chan', 'captured', 'builds', 'delight']\n",
      "\n",
      "Top neg words:\n",
      "['terrible', 'disappointing', 'waste', 'disappointment', 'villains', 'darkness', 'lowbudget', '310', 'ridiculous', 'nonexistent', 'pointless', 'joe', 'mess', 'toilet', 'amateur', 'remotely', 'forgettable', 'juvenile', 'ape', 'incomprehensible', 'garbage', 'horrendous', 'zero', 'unintentional', 'outer', 'cheated', 'offended', 'promise', 'ugly', 'wasted', 'atrocious', 'gotta', 'realized', 'unwatchable', 'tarzan', 'awful', 'looked', 'jane', 'law', 'worst', 'employed', 'amazed', 'blatantly', 'secondly', 'incoherent', 'riding', 'awfulness', 'muddled', 'woody', 'subjected']\n"
     ]
    }
   ],
   "source": [
    "print('Top pos words:')\n",
    "print(top_pos_words)\n",
    "print('\\nTop neg words:')\n",
    "print(top_neg_words)\n",
    "\n",
    "# Remember to post-process these by removing those words that are correlational but not causal, e.g. 'germany'"
   ]
  },
  {
   "cell_type": "code",
   "execution_count": 9,
   "metadata": {},
   "outputs": [],
   "source": [
    "pos_words = set(['eddie', 'jackie', 'everyday', 'douglas', 'cold', \n",
    "                 'stands', 'ned', 'wonderful', 'spy', 'built', \n",
    "                 'wonderfully', 'wall', 'daniel', 'finest', 'thrillers',\n",
    "                 'gorgeous', 'delightful', 'professional', 'lonely', 'genuine',\n",
    "                 'captures', 'saturday', 'glory', 'adapted', 'counter', 'captivating',\n",
    "                 'california', 'develops', 'lucky', 'strength', 'studios', 'uncut',\n",
    "                 'quiet', 'stunning', 'paris', 'flight', 'gordon', 'underground',\n",
    "                 'builds', 'brilliantly', 'captured', 'mrs', 'covered', 'portrait',\n",
    "                 'delight', 'lovers', 'critical', 'intensity', 'melodrama', 'sentimental'])\n",
    "\n",
    "neg_words = set(['terrible', 'disappointing', 'waste', 'lowbudget', '310', 'darkness',\n",
    "                 'villains', 'disappointment', 'nonexistent', 'ridiculous', 'pointless',\n",
    "                 'joe', 'mess', 'ape', 'horrendous', 'forgettable', 'juvenile', 'garbage',\n",
    "                 'amateur', 'incomprehensible', 'remotely', 'toilet', 'zero', 'offended',\n",
    "                 'gotta', 'unwatchable', 'realized', 'unintentional', 'outer', 'cheated',\n",
    "                 'wasted', 'atrocious', 'ugly', 'promise', 'tarzan', 'awful', 'jane',\n",
    "                 'looked', 'law', 'worst', 'pretentious', 'subjected', 'secondly',\n",
    "                 'amazed', 'blatantly', 'riding', 'employed', 'woody', 'plague', 'incoherent'])"
   ]
  },
  {
   "cell_type": "markdown",
   "metadata": {},
   "source": [
    "## Labeling functions"
   ]
  },
  {
   "cell_type": "code",
   "execution_count": 10,
   "metadata": {},
   "outputs": [],
   "source": [
    "# define constants to represent class labels\n",
    "ABSTAIN = -1\n",
    "POS = 1\n",
    "NEG = 0"
   ]
  },
  {
   "cell_type": "code",
   "execution_count": 15,
   "metadata": {},
   "outputs": [],
   "source": [
    "from snorkel.labeling import labeling_function\n",
    "\n",
    "@labeling_function()\n",
    "def score_keywords(x):\n",
    "    text = x.text.lower()\n",
    "    pos_word_score = 1.0\n",
    "    neg_word_score = -1.0\n",
    "    score = 0\n",
    "    for word in pos_words:\n",
    "        if re.search(r'[.!?\\-\\s]' + word + r'[.!?\\-\\s]', text):\n",
    "            score += pos_word_score\n",
    "    for word in neg_words:\n",
    "        if re.search(r'[.!?\\-\\s]' + word + r'[.!?\\-\\s]', text):\n",
    "            score += neg_word_score\n",
    "    if score > 0:\n",
    "        return POS\n",
    "    elif score < 0:\n",
    "        return NEG\n",
    "    return ABSTAIN"
   ]
  },
  {
   "cell_type": "markdown",
   "metadata": {},
   "source": [
    "## Applying and tuning LFs"
   ]
  },
  {
   "cell_type": "code",
   "execution_count": 16,
   "metadata": {},
   "outputs": [],
   "source": [
    "lfs = [score_keywords]"
   ]
  },
  {
   "cell_type": "code",
   "execution_count": 17,
   "metadata": {},
   "outputs": [],
   "source": [
    "from snorkel.labeling import PandasLFApplier\n",
    "from snorkel.labeling import LFAnalysis\n",
    "\n",
    "applier = PandasLFApplier(lfs=lfs)"
   ]
  },
  {
   "cell_type": "code",
   "execution_count": 18,
   "metadata": {},
   "outputs": [
    {
     "name": "stderr",
     "output_type": "stream",
     "text": [
      "100%|██████████| 800/800 [00:02<00:00, 373.97it/s]\n"
     ]
    },
    {
     "data": {
      "text/html": [
       "<div>\n",
       "<style scoped>\n",
       "    .dataframe tbody tr th:only-of-type {\n",
       "        vertical-align: middle;\n",
       "    }\n",
       "\n",
       "    .dataframe tbody tr th {\n",
       "        vertical-align: top;\n",
       "    }\n",
       "\n",
       "    .dataframe thead th {\n",
       "        text-align: right;\n",
       "    }\n",
       "</style>\n",
       "<table border=\"1\" class=\"dataframe\">\n",
       "  <thead>\n",
       "    <tr style=\"text-align: right;\">\n",
       "      <th></th>\n",
       "      <th>j</th>\n",
       "      <th>Polarity</th>\n",
       "      <th>Coverage</th>\n",
       "      <th>Overlaps</th>\n",
       "      <th>Conflicts</th>\n",
       "      <th>Correct</th>\n",
       "      <th>Incorrect</th>\n",
       "      <th>Emp. Acc.</th>\n",
       "    </tr>\n",
       "  </thead>\n",
       "  <tbody>\n",
       "    <tr>\n",
       "      <th>score_keywords</th>\n",
       "      <td>0</td>\n",
       "      <td>[0, 1]</td>\n",
       "      <td>0.5825</td>\n",
       "      <td>0.0</td>\n",
       "      <td>0.0</td>\n",
       "      <td>450</td>\n",
       "      <td>16</td>\n",
       "      <td>0.965665</td>\n",
       "    </tr>\n",
       "  </tbody>\n",
       "</table>\n",
       "</div>"
      ],
      "text/plain": [
       "                j Polarity  Coverage  Overlaps  Conflicts  Correct  Incorrect  \\\n",
       "score_keywords  0   [0, 1]    0.5825       0.0        0.0      450         16   \n",
       "\n",
       "                Emp. Acc.  \n",
       "score_keywords   0.965665  "
      ]
     },
     "execution_count": 18,
     "metadata": {},
     "output_type": "execute_result"
    }
   ],
   "source": [
    "L_sdev = applier.apply(df=sdev_df)\n",
    "LFAnalysis(L=L_sdev, lfs=lfs).lf_summary(Y=np.asarray(sdev_df[\"label\"]))"
   ]
  },
  {
   "cell_type": "code",
   "execution_count": 19,
   "metadata": {
    "scrolled": true
   },
   "outputs": [
    {
     "name": "stderr",
     "output_type": "stream",
     "text": [
      "100%|██████████| 24016/24016 [00:55<00:00, 434.73it/s]\n"
     ]
    },
    {
     "data": {
      "text/html": [
       "<div>\n",
       "<style scoped>\n",
       "    .dataframe tbody tr th:only-of-type {\n",
       "        vertical-align: middle;\n",
       "    }\n",
       "\n",
       "    .dataframe tbody tr th {\n",
       "        vertical-align: top;\n",
       "    }\n",
       "\n",
       "    .dataframe thead th {\n",
       "        text-align: right;\n",
       "    }\n",
       "</style>\n",
       "<table border=\"1\" class=\"dataframe\">\n",
       "  <thead>\n",
       "    <tr style=\"text-align: right;\">\n",
       "      <th></th>\n",
       "      <th>j</th>\n",
       "      <th>Polarity</th>\n",
       "      <th>Coverage</th>\n",
       "      <th>Overlaps</th>\n",
       "      <th>Conflicts</th>\n",
       "    </tr>\n",
       "  </thead>\n",
       "  <tbody>\n",
       "    <tr>\n",
       "      <th>score_keywords</th>\n",
       "      <td>0</td>\n",
       "      <td>[0, 1]</td>\n",
       "      <td>0.520778</td>\n",
       "      <td>0.0</td>\n",
       "      <td>0.0</td>\n",
       "    </tr>\n",
       "  </tbody>\n",
       "</table>\n",
       "</div>"
      ],
      "text/plain": [
       "                j Polarity  Coverage  Overlaps  Conflicts\n",
       "score_keywords  0   [0, 1]  0.520778       0.0        0.0"
      ]
     },
     "execution_count": 19,
     "metadata": {},
     "output_type": "execute_result"
    }
   ],
   "source": [
    "L_train = applier.apply(df=train_df)\n",
    "LFAnalysis(L=L_train, lfs=lfs).lf_summary()"
   ]
  },
  {
   "cell_type": "markdown",
   "metadata": {},
   "source": [
    "## Use Majority Vote on sdev set (given there is only one lf)"
   ]
  },
  {
   "cell_type": "code",
   "execution_count": 24,
   "metadata": {},
   "outputs": [
    {
     "name": "stderr",
     "output_type": "stream",
     "text": [
      "WARNING:root:Metrics calculated over data points with non-abstain labels only\n"
     ]
    },
    {
     "name": "stdout",
     "output_type": "stream",
     "text": [
      "Majority Vote Accuracy:   96.6%\n"
     ]
    }
   ],
   "source": [
    "from snorkel.labeling import MajorityLabelVoter\n",
    "\n",
    "majority_model = MajorityLabelVoter()\n",
    "majority_acc = majority_model.score(L=L_sdev, Y=np.asarray(sdev_df[\"label\"]))[\"accuracy\"]\n",
    "print(f\"{'Majority Vote Accuracy:':<25} {majority_acc * 100:.1f}%\")"
   ]
  },
  {
   "cell_type": "code",
   "execution_count": 25,
   "metadata": {},
   "outputs": [
    {
     "name": "stderr",
     "output_type": "stream",
     "text": [
      "WARNING:root:Metrics calculated over data points with non-abstain labels only\n"
     ]
    },
    {
     "name": "stdout",
     "output_type": "stream",
     "text": [
      "{'accuracy': 0.7792436235708003}\n"
     ]
    }
   ],
   "source": [
    "# Attention: this part is pseudo-cheating!\n",
    "\n",
    "majority_model_test_perf = majority_model.score(L=L_train, Y=np.asarray(train_df[\"label\"]))\n",
    "print(majority_model_test_perf)"
   ]
  },
  {
   "cell_type": "markdown",
   "metadata": {},
   "source": [
    "## Filtering out unlabeled data points"
   ]
  },
  {
   "cell_type": "code",
   "execution_count": 26,
   "metadata": {},
   "outputs": [],
   "source": [
    "from snorkel.labeling import filter_unlabeled_dataframe"
   ]
  },
  {
   "cell_type": "code",
   "execution_count": 27,
   "metadata": {},
   "outputs": [],
   "source": [
    "model = majority_model"
   ]
  },
  {
   "cell_type": "markdown",
   "metadata": {},
   "source": [
    "### Filter"
   ]
  },
  {
   "cell_type": "code",
   "execution_count": 28,
   "metadata": {},
   "outputs": [],
   "source": [
    "probs_train = model.predict_proba(L=L_train)\n",
    "\n",
    "df_train_filtered, probs_train_filtered = filter_unlabeled_dataframe(\n",
    "    X=train_df, y=probs_train, L=L_train\n",
    ")"
   ]
  },
  {
   "cell_type": "markdown",
   "metadata": {},
   "source": [
    "## Export dataframe"
   ]
  },
  {
   "cell_type": "code",
   "execution_count": 29,
   "metadata": {
    "scrolled": false
   },
   "outputs": [
    {
     "data": {
      "text/html": [
       "<div>\n",
       "<style scoped>\n",
       "    .dataframe tbody tr th:only-of-type {\n",
       "        vertical-align: middle;\n",
       "    }\n",
       "\n",
       "    .dataframe tbody tr th {\n",
       "        vertical-align: top;\n",
       "    }\n",
       "\n",
       "    .dataframe thead th {\n",
       "        text-align: right;\n",
       "    }\n",
       "</style>\n",
       "<table border=\"1\" class=\"dataframe\">\n",
       "  <thead>\n",
       "    <tr style=\"text-align: right;\">\n",
       "      <th></th>\n",
       "      <th>text</th>\n",
       "      <th>label</th>\n",
       "    </tr>\n",
       "  </thead>\n",
       "  <tbody>\n",
       "    <tr>\n",
       "      <th>0</th>\n",
       "      <td>I have to start saying it has been a long time...</td>\n",
       "      <td>1</td>\n",
       "    </tr>\n",
       "    <tr>\n",
       "      <th>1</th>\n",
       "      <td>I thought that Mukhsin has been wonderfully wr...</td>\n",
       "      <td>1</td>\n",
       "    </tr>\n",
       "    <tr>\n",
       "      <th>3</th>\n",
       "      <td>I cant understand at all why so many Godzilla ...</td>\n",
       "      <td>0</td>\n",
       "    </tr>\n",
       "    <tr>\n",
       "      <th>7</th>\n",
       "      <td>Pretty awful but watchable and entertaining. I...</td>\n",
       "      <td>0</td>\n",
       "    </tr>\n",
       "    <tr>\n",
       "      <th>9</th>\n",
       "      <td>Cannot believe my eyes when read quite a bunch...</td>\n",
       "      <td>1</td>\n",
       "    </tr>\n",
       "    <tr>\n",
       "      <th>...</th>\n",
       "      <td>...</td>\n",
       "      <td>...</td>\n",
       "    </tr>\n",
       "    <tr>\n",
       "      <th>24983</th>\n",
       "      <td>As with all of Angelopoulos' films, \"The Suspe...</td>\n",
       "      <td>1</td>\n",
       "    </tr>\n",
       "    <tr>\n",
       "      <th>24989</th>\n",
       "      <td>SPOILER ALERT In this generic and forgettable ...</td>\n",
       "      <td>0</td>\n",
       "    </tr>\n",
       "    <tr>\n",
       "      <th>24992</th>\n",
       "      <td>The 1930s saw a vogue for documentary films ab...</td>\n",
       "      <td>0</td>\n",
       "    </tr>\n",
       "    <tr>\n",
       "      <th>24993</th>\n",
       "      <td>I managed to catch a late night double feature...</td>\n",
       "      <td>1</td>\n",
       "    </tr>\n",
       "    <tr>\n",
       "      <th>24995</th>\n",
       "      <td>This movie is about this wimpy guy who decides...</td>\n",
       "      <td>1</td>\n",
       "    </tr>\n",
       "  </tbody>\n",
       "</table>\n",
       "<p>12507 rows × 2 columns</p>\n",
       "</div>"
      ],
      "text/plain": [
       "                                                    text  label\n",
       "0      I have to start saying it has been a long time...      1\n",
       "1      I thought that Mukhsin has been wonderfully wr...      1\n",
       "3      I cant understand at all why so many Godzilla ...      0\n",
       "7      Pretty awful but watchable and entertaining. I...      0\n",
       "9      Cannot believe my eyes when read quite a bunch...      1\n",
       "...                                                  ...    ...\n",
       "24983  As with all of Angelopoulos' films, \"The Suspe...      1\n",
       "24989  SPOILER ALERT In this generic and forgettable ...      0\n",
       "24992  The 1930s saw a vogue for documentary films ab...      0\n",
       "24993  I managed to catch a late night double feature...      1\n",
       "24995  This movie is about this wimpy guy who decides...      1\n",
       "\n",
       "[12507 rows x 2 columns]"
      ]
     },
     "execution_count": 29,
     "metadata": {},
     "output_type": "execute_result"
    }
   ],
   "source": [
    "df_train_filtered"
   ]
  },
  {
   "cell_type": "code",
   "execution_count": 30,
   "metadata": {},
   "outputs": [
    {
     "data": {
      "text/plain": [
       "5388"
      ]
     },
     "execution_count": 30,
     "metadata": {},
     "output_type": "execute_result"
    }
   ],
   "source": [
    "np.sum(np.asarray(df_train_filtered['label']))"
   ]
  },
  {
   "cell_type": "code",
   "execution_count": 31,
   "metadata": {},
   "outputs": [],
   "source": [
    "export_path = '../imdb-data/wd-n.csv'\n",
    "df_train_filtered.to_csv(export_path, header=False, index=False)"
   ]
  },
  {
   "cell_type": "code",
   "execution_count": null,
   "metadata": {},
   "outputs": [],
   "source": []
  }
 ],
 "metadata": {
  "kernelspec": {
   "display_name": "Python 3",
   "language": "python",
   "name": "python3"
  },
  "language_info": {
   "codemirror_mode": {
    "name": "ipython",
    "version": 3
   },
   "file_extension": ".py",
   "mimetype": "text/x-python",
   "name": "python",
   "nbconvert_exporter": "python",
   "pygments_lexer": "ipython3",
   "version": "3.6.9"
  }
 },
 "nbformat": 4,
 "nbformat_minor": 2
}
