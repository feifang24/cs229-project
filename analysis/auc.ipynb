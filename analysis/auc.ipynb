{
 "cells": [
  {
   "cell_type": "code",
   "execution_count": 1,
   "metadata": {},
   "outputs": [],
   "source": [
    "import pandas as pd\n",
    "import numpy as np\n",
    "import os"
   ]
  },
  {
   "cell_type": "code",
   "execution_count": 3,
   "metadata": {
    "collapsed": true
   },
   "outputs": [
    {
     "name": "stderr",
     "output_type": "stream",
     "text": [
      "/Users/feifang/miniconda3/envs/snorkel/lib/python3.6/site-packages/tensorflow/python/framework/dtypes.py:516: FutureWarning: Passing (type, 1) or '1type' as a synonym of type is deprecated; in a future version of numpy, it will be understood as (type, (1,)) / '(1,)type'.\n",
      "  _np_qint8 = np.dtype([(\"qint8\", np.int8, 1)])\n",
      "/Users/feifang/miniconda3/envs/snorkel/lib/python3.6/site-packages/tensorflow/python/framework/dtypes.py:517: FutureWarning: Passing (type, 1) or '1type' as a synonym of type is deprecated; in a future version of numpy, it will be understood as (type, (1,)) / '(1,)type'.\n",
      "  _np_quint8 = np.dtype([(\"quint8\", np.uint8, 1)])\n",
      "/Users/feifang/miniconda3/envs/snorkel/lib/python3.6/site-packages/tensorflow/python/framework/dtypes.py:518: FutureWarning: Passing (type, 1) or '1type' as a synonym of type is deprecated; in a future version of numpy, it will be understood as (type, (1,)) / '(1,)type'.\n",
      "  _np_qint16 = np.dtype([(\"qint16\", np.int16, 1)])\n",
      "/Users/feifang/miniconda3/envs/snorkel/lib/python3.6/site-packages/tensorflow/python/framework/dtypes.py:519: FutureWarning: Passing (type, 1) or '1type' as a synonym of type is deprecated; in a future version of numpy, it will be understood as (type, (1,)) / '(1,)type'.\n",
      "  _np_quint16 = np.dtype([(\"quint16\", np.uint16, 1)])\n",
      "/Users/feifang/miniconda3/envs/snorkel/lib/python3.6/site-packages/tensorflow/python/framework/dtypes.py:520: FutureWarning: Passing (type, 1) or '1type' as a synonym of type is deprecated; in a future version of numpy, it will be understood as (type, (1,)) / '(1,)type'.\n",
      "  _np_qint32 = np.dtype([(\"qint32\", np.int32, 1)])\n",
      "/Users/feifang/miniconda3/envs/snorkel/lib/python3.6/site-packages/tensorflow/python/framework/dtypes.py:525: FutureWarning: Passing (type, 1) or '1type' as a synonym of type is deprecated; in a future version of numpy, it will be understood as (type, (1,)) / '(1,)type'.\n",
      "  np_resource = np.dtype([(\"resource\", np.ubyte, 1)])\n",
      "/Users/feifang/miniconda3/envs/snorkel/lib/python3.6/site-packages/tensorboard/compat/tensorflow_stub/dtypes.py:541: FutureWarning: Passing (type, 1) or '1type' as a synonym of type is deprecated; in a future version of numpy, it will be understood as (type, (1,)) / '(1,)type'.\n",
      "  _np_qint8 = np.dtype([(\"qint8\", np.int8, 1)])\n",
      "/Users/feifang/miniconda3/envs/snorkel/lib/python3.6/site-packages/tensorboard/compat/tensorflow_stub/dtypes.py:542: FutureWarning: Passing (type, 1) or '1type' as a synonym of type is deprecated; in a future version of numpy, it will be understood as (type, (1,)) / '(1,)type'.\n",
      "  _np_quint8 = np.dtype([(\"quint8\", np.uint8, 1)])\n",
      "/Users/feifang/miniconda3/envs/snorkel/lib/python3.6/site-packages/tensorboard/compat/tensorflow_stub/dtypes.py:543: FutureWarning: Passing (type, 1) or '1type' as a synonym of type is deprecated; in a future version of numpy, it will be understood as (type, (1,)) / '(1,)type'.\n",
      "  _np_qint16 = np.dtype([(\"qint16\", np.int16, 1)])\n",
      "/Users/feifang/miniconda3/envs/snorkel/lib/python3.6/site-packages/tensorboard/compat/tensorflow_stub/dtypes.py:544: FutureWarning: Passing (type, 1) or '1type' as a synonym of type is deprecated; in a future version of numpy, it will be understood as (type, (1,)) / '(1,)type'.\n",
      "  _np_quint16 = np.dtype([(\"quint16\", np.uint16, 1)])\n",
      "/Users/feifang/miniconda3/envs/snorkel/lib/python3.6/site-packages/tensorboard/compat/tensorflow_stub/dtypes.py:545: FutureWarning: Passing (type, 1) or '1type' as a synonym of type is deprecated; in a future version of numpy, it will be understood as (type, (1,)) / '(1,)type'.\n",
      "  _np_qint32 = np.dtype([(\"qint32\", np.int32, 1)])\n",
      "/Users/feifang/miniconda3/envs/snorkel/lib/python3.6/site-packages/tensorboard/compat/tensorflow_stub/dtypes.py:550: FutureWarning: Passing (type, 1) or '1type' as a synonym of type is deprecated; in a future version of numpy, it will be understood as (type, (1,)) / '(1,)type'.\n",
      "  np_resource = np.dtype([(\"resource\", np.ubyte, 1)])\n"
     ]
    }
   ],
   "source": [
    "import sys,inspect\n",
    "current_dir = os.path.dirname(os.path.abspath(inspect.getfile(inspect.currentframe())))\n",
    "parent_dir = os.path.dirname(current_dir)\n",
    "sys.path.insert(0, parent_dir) \n",
    "from dataprocessor import *"
   ]
  },
  {
   "cell_type": "markdown",
   "metadata": {},
   "source": [
    "## Load test set"
   ]
  },
  {
   "cell_type": "code",
   "execution_count": 5,
   "metadata": {
    "scrolled": false
   },
   "outputs": [
    {
     "name": "stdout",
     "output_type": "stream",
     "text": [
      "WARNING:tensorflow:From /Users/feifang/Desktop/Dev/cs229-project/dataprocessor.py:43: The name tf.gfile.ListDirectory is deprecated. Please use tf.io.gfile.listdir instead.\n",
      "\n",
      "WARNING:tensorflow:From /Users/feifang/Desktop/Dev/cs229-project/dataprocessor.py:53: The name tf.gfile.Open is deprecated. Please use tf.io.gfile.GFile instead.\n",
      "\n"
     ]
    }
   ],
   "source": [
    "processor = ImdbProcessor('../imdb-data')\n",
    "test_examples = processor.get_test_examples()"
   ]
  },
  {
   "cell_type": "code",
   "execution_count": 6,
   "metadata": {},
   "outputs": [],
   "source": [
    "labels_test_str = [example.label for example in test_examples]\n",
    "labels_test = [1 if l == 'pos' else 0 for l in labels_test_str]"
   ]
  },
  {
   "cell_type": "code",
   "execution_count": 91,
   "metadata": {},
   "outputs": [],
   "source": [
    "def read_tsv(input_file):\n",
    "    \"\"\"Reads a tab separated value file.\"\"\"\n",
    "    with tf.gfile.Open(input_file, \"r\") as f:\n",
    "        reader = csv.reader(f, delimiter=\"\\t\")\n",
    "        lines = []\n",
    "        for line in reader:\n",
    "            #line = [float(l) for l in line]\n",
    "            lines.append(float(line[0]))\n",
    "    return lines"
   ]
  },
  {
   "cell_type": "code",
   "execution_count": 92,
   "metadata": {},
   "outputs": [],
   "source": [
    "def get_probs(train_set):\n",
    "    model_id = models[train_set]\n",
    "    pred_dir = 'gs://cs229-checkpoints/imdb/{}/{}'.format(train_set, model_id)\n",
    "    pred_file = os.path.join(pred_dir, \"preds_on_test.tsv\")\n",
    "    pred_probs = read_tsv(pred_file)\n",
    "    return np.asarray(pred_probs)"
   ]
  },
  {
   "cell_type": "code",
   "execution_count": 186,
   "metadata": {},
   "outputs": [],
   "source": [
    "def get_preds(probs):\n",
    "    return (probs > 0.5).astype(int)"
   ]
  },
  {
   "cell_type": "code",
   "execution_count": 178,
   "metadata": {},
   "outputs": [],
   "source": [
    "from sklearn.metrics import accuracy_score, roc_auc_score\n",
    "\n",
    "def get_accuracy(preds):\n",
    "    return accuracy_score(labels_test, preds)\n",
    "\n",
    "def get_auc(probs):\n",
    "    return roc_auc_score(labels_test, probs)"
   ]
  },
  {
   "cell_type": "markdown",
   "metadata": {},
   "source": [
    "## Load predictions"
   ]
  },
  {
   "cell_type": "code",
   "execution_count": 187,
   "metadata": {},
   "outputs": [],
   "source": [
    "models = {'sd800':'12111237',\n",
    "          'wd05':\"12131001\",#'12130938',\n",
    "          'og':'12111747',\n",
    "          'sd1600':'12112209',\n",
    "          'sd3200':'12112246',\n",
    "          'sd6400':'12112338',\n",
    "          'sd12800':'12120118',\n",
    "         }"
   ]
  },
  {
   "cell_type": "code",
   "execution_count": 188,
   "metadata": {},
   "outputs": [],
   "source": [
    "probs_dict = {}\n",
    "preds_dict = {}\n",
    "for train_set in models.keys():\n",
    "    probs_dict[train_set] = get_probs(train_set)\n",
    "    preds_dict[train_set] = get_preds(probs_dict[train_set])"
   ]
  },
  {
   "cell_type": "markdown",
   "metadata": {},
   "source": [
    "## AUC"
   ]
  },
  {
   "cell_type": "code",
   "execution_count": 185,
   "metadata": {},
   "outputs": [
    {
     "name": "stdout",
     "output_type": "stream",
     "text": [
      "AUC on og: 0.9742761560002732\n",
      "AUC on sd12800: 0.9713277235161534\n",
      "AUC on sd1600: 0.953066976299433\n",
      "AUC on sd3200: 0.9620578580698039\n",
      "AUC on sd6400: 0.9656495765316577\n",
      "AUC on sd800: 0.9462379550577146\n",
      "AUC on wd05: 0.9319446246841062\n"
     ]
    }
   ],
   "source": [
    "auc_dict = {}\n",
    "for train_set in sorted(probs_dict.keys()):\n",
    "    auc_score = get_auc(probs_dict[train_set])\n",
    "    auc_dict[train_set] = auc_score\n",
    "    print(\"AUC on {}: {}\".format(train_set, auc_score))"
   ]
  },
  {
   "cell_type": "markdown",
   "metadata": {},
   "source": [
    "## Plot"
   ]
  },
  {
   "cell_type": "code",
   "execution_count": 190,
   "metadata": {},
   "outputs": [],
   "source": [
    "ds_map = {i: 'sd' + str(i) for i in [800, 1600, 3200, 6400, 12800]}"
   ]
  },
  {
   "cell_type": "code",
   "execution_count": 191,
   "metadata": {},
   "outputs": [],
   "source": [
    "ds_map[25000] = 'og'"
   ]
  },
  {
   "cell_type": "code",
   "execution_count": 192,
   "metadata": {},
   "outputs": [],
   "source": [
    "import matplotlib.pyplot as plt"
   ]
  },
  {
   "cell_type": "code",
   "execution_count": 195,
   "metadata": {
    "scrolled": true
   },
   "outputs": [
    {
     "data": {
      "text/plain": [
       "<matplotlib.legend.Legend at 0x141db3c50>"
      ]
     },
     "execution_count": 195,
     "metadata": {},
     "output_type": "execute_result"
    },
    {
     "data": {
      "image/png": "[encoded data removed]",
      "text/plain": [
       "<Figure size 432x288 with 1 Axes>"
      ]
     },
     "metadata": {
      "needs_background": "light"
     },
     "output_type": "display_data"
    }
   ],
   "source": [
    "xs = [ds_size / 800 for ds_size in list(ds_map.keys())]\n",
    "aucs = [auc_dict[ds_map[ds * 800]] for ds in xs]\n",
    "plt.xscale(\"log\", basex=2)\n",
    "plt.ylim(0.7,1.)\n",
    "plt.xlim(0.8, 40)\n",
    "plt.xticks(xs, list(ds_map.keys()))\n",
    "plt.scatter(xs, aucs)\n",
    "plt.plot(xs, aucs, label='Hand-labeled datasets')\n",
    "plt.xlabel(\"Training set size\", fontsize=12)\n",
    "plt.ylabel(\"ROC-AUC score on test set\", fontsize=12)\n",
    "plt.plot(np.linspace(1, 25000/800, 30), [auc_dict['wd05']] * 30, label=\"WD-S (AUC = 0.93)\")\n",
    "plt.plot(np.linspace(1, 25000/800, 30), [0.8069924936821256] * 30, label=\"WD-N (AUC = 0.80)\")\n",
    "plt.title(\"Test set results on BERT\", fontsize=16)\n",
    "plt.legend()"
   ]
  },
  {
   "cell_type": "code",
   "execution_count": 197,
   "metadata": {},
   "outputs": [],
   "source": [
    "lstm_auc_dict = {\n",
    " 'og': 0.9388325865719553,\n",
    " 'sd12800': 0.9106639710402294,\n",
    " 'sd1600': 0.8182989037634042,\n",
    " 'sd3200': 0.8668804624001092,\n",
    " 'sd6400': 0.8857327231746465,\n",
    " 'sd800': 0.7997171026569223}"
   ]
  },
  {
   "cell_type": "code",
   "execution_count": 201,
   "metadata": {},
   "outputs": [
    {
     "data": {
      "image/png": "[encoded data removed]",
      "text/plain": [
       "<Figure size 432x288 with 1 Axes>"
      ]
     },
     "metadata": {
      "needs_background": "light"
     },
     "output_type": "display_data"
    }
   ],
   "source": [
    "xs = [ds_size / 800 for ds_size in list(ds_map.keys())]\n",
    "aucs = [auc_dict[ds_map[ds * 800]] for ds in xs]\n",
    "lstm_aucs = [lstm_auc_dict[ds_map[ds * 800]] for ds in xs]\n",
    "plt.xscale(\"log\", basex=2)\n",
    "plt.ylim(0.7,1.)\n",
    "plt.xlim(0.8, 40)\n",
    "plt.xticks(xs, list(ds_map.keys()))\n",
    "plt.scatter(xs, aucs)\n",
    "plt.plot(xs, aucs, label='BERT')\n",
    "plt.scatter(xs, lstm_aucs)\n",
    "plt.plot(xs, lstm_aucs, label=\"LSTM\")\n",
    "plt.xlabel(\"Training set size\", fontsize=12)\n",
    "plt.ylabel(\"ROC-AUC score on test set\", fontsize=12)\n",
    "plt.title(\"BERT vs. LSTM trained on manual labels\", fontsize=16)\n",
    "plt.legend()\n",
    "plt.grid(True)"
   ]
  },
  {
   "cell_type": "code",
   "execution_count": null,
   "metadata": {},
   "outputs": [],
   "source": []
  },
  {
   "cell_type": "markdown",
   "metadata": {},
   "source": [
    "## Load dev for wd"
   ]
  },
  {
   "cell_type": "code",
   "execution_count": 152,
   "metadata": {},
   "outputs": [],
   "source": [
    "dev_examples = processor.get_dev_examples()\n",
    "labels_dev_str = [example.label for example in dev_examples]\n",
    "labels_dev = [1 if l == 'pos' else 0 for l in labels_dev_str]"
   ]
  },
  {
   "cell_type": "code",
   "execution_count": 153,
   "metadata": {},
   "outputs": [
    {
     "data": {
      "text/plain": [
       "800"
      ]
     },
     "execution_count": 153,
     "metadata": {},
     "output_type": "execute_result"
    }
   ],
   "source": [
    "len(labels_dev)"
   ]
  },
  {
   "cell_type": "code",
   "execution_count": 154,
   "metadata": {},
   "outputs": [],
   "source": [
    "def get_dev_probs(train_set, model_id):\n",
    "    pred_dir = 'gs://cs229-checkpoints/imdb/{}/{}'.format(train_set, model_id)\n",
    "    pred_file = os.path.join(pred_dir, \"preds_on_dev.tsv\")\n",
    "    pred_probs = read_tsv(pred_file)\n",
    "    return np.asarray(pred_probs)"
   ]
  },
  {
   "cell_type": "code",
   "execution_count": 155,
   "metadata": {},
   "outputs": [],
   "source": [
    "dev_probs = get_dev_probs('wd05', '12130308')\n"
   ]
  },
  {
   "cell_type": "code",
   "execution_count": 156,
   "metadata": {},
   "outputs": [],
   "source": [
    "dev_preds = get_preds(dev_probs)"
   ]
  },
  {
   "cell_type": "code",
   "execution_count": 157,
   "metadata": {},
   "outputs": [
    {
     "data": {
      "text/plain": [
       "0.5"
      ]
     },
     "execution_count": 157,
     "metadata": {},
     "output_type": "execute_result"
    }
   ],
   "source": [
    "accuracy_score(labels_dev, dev_preds)"
   ]
  },
  {
   "cell_type": "code",
   "execution_count": 158,
   "metadata": {},
   "outputs": [
    {
     "data": {
      "text/plain": [
       "0.5768562500000001"
      ]
     },
     "execution_count": 158,
     "metadata": {},
     "output_type": "execute_result"
    }
   ],
   "source": [
    "roc_auc_score(labels_dev, dev_probs)"
   ]
  },
  {
   "cell_type": "code",
   "execution_count": 160,
   "metadata": {},
   "outputs": [
    {
     "data": {
      "text/plain": [
       "array([0.03602624, 0.03579515, 0.03583509, 0.03581762, 0.03599897,\n",
       "       0.03575489, 0.03585634, 0.03577894, 0.03596672, 0.03591129,\n",
       "       0.03593579, 0.03568789, 0.03579429, 0.03581434, 0.03579786,\n",
       "       0.03595662, 0.03592551, 0.03601733, 0.03595608, 0.03551084,\n",
       "       0.03602675, 0.03572279, 0.03582311, 0.03580698, 0.03583255,\n",
       "       0.03585321, 0.03580171, 0.03595027, 0.03573543, 0.03587651,\n",
       "       0.03599292, 0.035759  , 0.03601405, 0.03573692, 0.03604165,\n",
       "       0.03576606, 0.03603959, 0.03602257, 0.03572494, 0.03594768,\n",
       "       0.03597525, 0.03592712, 0.03599435, 0.03572226, 0.03593504,\n",
       "       0.03601185, 0.03593197, 0.035761  , 0.03545508, 0.03579852,\n",
       "       0.0360156 , 0.03578335, 0.03588372, 0.0356473 , 0.03579712,\n",
       "       0.03595579, 0.03572038, 0.03597096, 0.03592727, 0.03592187,\n",
       "       0.03559759, 0.03607327, 0.03617838, 0.0358651 , 0.0358237 ,\n",
       "       0.03591624, 0.03592497, 0.03597629, 0.0358938 , 0.03598106,\n",
       "       0.0359107 , 0.03597447, 0.03587547, 0.03600943, 0.03587756,\n",
       "       0.03591785, 0.0357672 , 0.03587791, 0.03583014, 0.0360187 ,\n",
       "       0.03596199, 0.035831  , 0.03593314, 0.03583252, 0.0358623 ,\n",
       "       0.03586629, 0.03508592, 0.0359222 , 0.0359363 , 0.03576669,\n",
       "       0.03574845, 0.03585225, 0.03599775, 0.03587803, 0.03606835,\n",
       "       0.03598759, 0.03580007, 0.03574053, 0.03593648, 0.03592366,\n",
       "       0.0357638 , 0.03601947, 0.0357773 , 0.03595671, 0.03590295,\n",
       "       0.03603089, 0.03601059, 0.03595242, 0.03557342, 0.03560194,\n",
       "       0.03595293, 0.0358853 , 0.03578779, 0.03591672, 0.03571513,\n",
       "       0.03553334, 0.03598967, 0.03574493, 0.03568676, 0.03599051,\n",
       "       0.03576663, 0.03577769, 0.03593367, 0.03594601, 0.03557774,\n",
       "       0.03581527, 0.03576642, 0.03580049, 0.03587422, 0.03568229,\n",
       "       0.03597292, 0.03588831, 0.03595161, 0.03595748, 0.03594956,\n",
       "       0.0358493 , 0.03555366, 0.0359813 , 0.03574738, 0.03597069,\n",
       "       0.036008  , 0.03600076, 0.03589764, 0.03587464, 0.0357295 ,\n",
       "       0.0359439 , 0.03590789, 0.03590199, 0.03542456, 0.03610757,\n",
       "       0.03589428, 0.03585091, 0.03598699, 0.03596628, 0.03573987,\n",
       "       0.03548637, 0.03589642, 0.03603214, 0.03605688, 0.03575283,\n",
       "       0.03598332, 0.0359565 , 0.03592777, 0.03602546, 0.03588358,\n",
       "       0.03575683, 0.03590334, 0.0357272 , 0.0360223 , 0.03606367,\n",
       "       0.03589353, 0.03581563, 0.03571683, 0.03602001, 0.03600577,\n",
       "       0.03582114, 0.03603655, 0.03584686, 0.03584555, 0.03592554,\n",
       "       0.03578347, 0.03597048, 0.03584266, 0.03584191, 0.03588831,\n",
       "       0.03590217, 0.03591019, 0.03587982, 0.03590429, 0.03576806,\n",
       "       0.03573048, 0.03589246, 0.03583583, 0.03597498, 0.03579372,\n",
       "       0.03601941, 0.03599071, 0.03589249, 0.03598678, 0.03574219,\n",
       "       0.03597558, 0.03572604, 0.03600702, 0.03590259, 0.03594577,\n",
       "       0.03583303, 0.03581426, 0.03599712, 0.03586251, 0.03595224,\n",
       "       0.03567553, 0.03595293, 0.03599939, 0.03548914, 0.03603029,\n",
       "       0.03575042, 0.03585658, 0.03603449, 0.03582922, 0.03605089,\n",
       "       0.03591609, 0.0354763 , 0.03577483, 0.03589556, 0.03586194,\n",
       "       0.03593135, 0.03589502, 0.03580263, 0.03584248, 0.03589624,\n",
       "       0.03595039, 0.03585669, 0.03587288, 0.0357767 , 0.0359424 ,\n",
       "       0.0359571 , 0.03589141, 0.03597674, 0.035831  , 0.03574964,\n",
       "       0.03584441, 0.03580388, 0.03573003, 0.03592417, 0.03597158,\n",
       "       0.03587067, 0.03574711, 0.03575787, 0.03593648, 0.03598371,\n",
       "       0.03591698, 0.03575069, 0.03594729, 0.0357784 , 0.03594077,\n",
       "       0.03604379, 0.03585204, 0.0359354 , 0.03579977, 0.03582922,\n",
       "       0.03580081, 0.03581229, 0.03602949, 0.03592095, 0.03599724,\n",
       "       0.03584924, 0.03596613, 0.03591496, 0.03609937, 0.03569582,\n",
       "       0.03586623, 0.03574756, 0.03601715, 0.03578648, 0.0360274 ,\n",
       "       0.03604311, 0.03593308, 0.0358291 , 0.03609317, 0.03574795,\n",
       "       0.03582251, 0.03588107, 0.03596309, 0.03594926, 0.0358142 ,\n",
       "       0.03594798, 0.03577265, 0.03586215, 0.03584775, 0.03587756,\n",
       "       0.03572106, 0.03568298, 0.03607941, 0.03580773, 0.03578579,\n",
       "       0.0359717 , 0.03579521, 0.03572661, 0.03571087, 0.03602454,\n",
       "       0.03565669, 0.03579158, 0.03586987, 0.03598714, 0.03592473,\n",
       "       0.03547368, 0.03569952, 0.03596875, 0.0357531 , 0.03563735,\n",
       "       0.03579801, 0.03592685, 0.03587091, 0.03585601, 0.03595647,\n",
       "       0.03576702, 0.03599173, 0.03592965, 0.03583527, 0.03587073,\n",
       "       0.0358395 , 0.03601703, 0.03595176, 0.03599158, 0.03597769,\n",
       "       0.03590691, 0.03588659, 0.03580263, 0.03603664, 0.03587064,\n",
       "       0.03600746, 0.03602964, 0.03586918, 0.03595376, 0.0357492 ,\n",
       "       0.03573129, 0.03587949, 0.03594145, 0.03581059, 0.03579089,\n",
       "       0.0356676 , 0.03579831, 0.035824  , 0.03597122, 0.03597429,\n",
       "       0.03590089, 0.03598955, 0.03584519, 0.03592411, 0.03597239,\n",
       "       0.03594804, 0.03580815, 0.03600246, 0.03571871, 0.03587699,\n",
       "       0.03592753, 0.03594208, 0.03576001, 0.03604093, 0.0359256 ,\n",
       "       0.03595802, 0.0359903 , 0.03594908, 0.03571063, 0.03575215,\n",
       "       0.03586712, 0.03586408, 0.03580621, 0.03591207, 0.03592807,\n",
       "       0.03586689, 0.03591588, 0.03603131, 0.03600746, 0.03588739,\n",
       "       0.03589591, 0.03586263, 0.03600979, 0.03587669, 0.03591639,\n",
       "       0.03587779, 0.03584206, 0.03584597, 0.03598878, 0.03559324,\n",
       "       0.03592551, 0.03569087, 0.03589916, 0.03584686, 0.03581452,\n",
       "       0.03610936, 0.03598738, 0.03567347, 0.03597435, 0.03603718,\n",
       "       0.03601277, 0.03568828, 0.03604814, 0.0359351 , 0.03584287,\n",
       "       0.03582659, 0.03589794, 0.03601149, 0.03593898, 0.03593552,\n",
       "       0.03586304, 0.03578702, 0.03570437, 0.03596729, 0.0359073 ,\n",
       "       0.03578788, 0.03587359, 0.03573549, 0.03602052, 0.03591597,\n",
       "       0.03575289, 0.03590611, 0.03595725, 0.03586388, 0.03580898,\n",
       "       0.03604472, 0.03590393, 0.0359171 , 0.03587449, 0.03595132,\n",
       "       0.0357345 , 0.03593221, 0.03567794, 0.03584147, 0.03589711,\n",
       "       0.03574204, 0.03588936, 0.0359408 , 0.03586119, 0.03602225,\n",
       "       0.03591585, 0.03570276, 0.03599885, 0.03593454, 0.0358986 ,\n",
       "       0.03584647, 0.03583002, 0.03596309, 0.0357334 , 0.03569198,\n",
       "       0.03583482, 0.03593281, 0.03587794, 0.03601652, 0.03576097,\n",
       "       0.03588909, 0.03582498, 0.03584057, 0.03567958, 0.03589913,\n",
       "       0.03588319, 0.0357542 , 0.03593412, 0.03596854, 0.03592962,\n",
       "       0.03576231, 0.0358232 , 0.03583917, 0.03585261, 0.03584152,\n",
       "       0.0359692 , 0.03584042, 0.03588468, 0.03581631, 0.03605473,\n",
       "       0.03580704, 0.03593528, 0.0358775 , 0.03592712, 0.03591537,\n",
       "       0.0358564 , 0.0357632 , 0.03575769, 0.03555754, 0.03589419,\n",
       "       0.03571752, 0.03571826, 0.03576899, 0.03585276, 0.03582051,\n",
       "       0.03593749, 0.03572249, 0.03593367, 0.03579301, 0.03595224,\n",
       "       0.03591672, 0.03587207, 0.03575185, 0.03581953, 0.03579953,\n",
       "       0.03595427, 0.03558889, 0.03578854, 0.03591967, 0.0357914 ,\n",
       "       0.03575438, 0.03583574, 0.03573129, 0.03578225, 0.03569615,\n",
       "       0.03578022, 0.0357134 , 0.03569892, 0.03580374, 0.03585389,\n",
       "       0.03585285, 0.03594327, 0.03598946, 0.03586554, 0.03586066,\n",
       "       0.03587517, 0.03587222, 0.0358333 , 0.03572029, 0.03588644,\n",
       "       0.0359439 , 0.03576338, 0.03569207, 0.03586176, 0.03583843,\n",
       "       0.0358071 , 0.03572384, 0.03586423, 0.03580329, 0.03590894,\n",
       "       0.03571445, 0.03579721, 0.03580228, 0.03601575, 0.03585804,\n",
       "       0.03595021, 0.03575242, 0.0356856 , 0.03597504, 0.03589109,\n",
       "       0.03568858, 0.03523165, 0.03571042, 0.0358324 , 0.03590304,\n",
       "       0.03581256, 0.03582835, 0.03590697, 0.03589323, 0.03594732,\n",
       "       0.03590596, 0.03577903, 0.03591549, 0.03588349, 0.03581092,\n",
       "       0.03585404, 0.03595105, 0.03593752, 0.03589252, 0.03572086,\n",
       "       0.03581819, 0.03588763, 0.03593495, 0.03592557, 0.03582761,\n",
       "       0.03585857, 0.03583729, 0.03591633, 0.03579003, 0.03594151,\n",
       "       0.03585643, 0.03590506, 0.03593695, 0.03570166, 0.03580645,\n",
       "       0.03574368, 0.03577203, 0.03578299, 0.03568867, 0.0359261 ,\n",
       "       0.03601787, 0.0357652 , 0.035851  , 0.03589112, 0.03592107,\n",
       "       0.03592551, 0.03582981, 0.03585038, 0.0357469 , 0.03602487,\n",
       "       0.03589189, 0.03590161, 0.03592312, 0.03586316, 0.03591809,\n",
       "       0.03580296, 0.03599551, 0.0360226 , 0.03555426, 0.03594211,\n",
       "       0.03573024, 0.03574172, 0.03596362, 0.0359678 , 0.03596133,\n",
       "       0.03556851, 0.03594723, 0.0360179 , 0.03577194, 0.03581408,\n",
       "       0.03581947, 0.03579342, 0.03569931, 0.03584728, 0.03592092,\n",
       "       0.03578842, 0.03600755, 0.03575441, 0.03575295, 0.03569612,\n",
       "       0.03577688, 0.03571811, 0.03591046, 0.0357888 , 0.03596702,\n",
       "       0.03573537, 0.03584433, 0.03579456, 0.0359084 , 0.03582096,\n",
       "       0.03565022, 0.03576973, 0.03598466, 0.0359118 , 0.03568757,\n",
       "       0.03597221, 0.03576457, 0.03594622, 0.03583008, 0.03592992,\n",
       "       0.03570715, 0.03556836, 0.03579938, 0.0359095 , 0.03589413,\n",
       "       0.03577557, 0.03585675, 0.03580585, 0.03594953, 0.03582627,\n",
       "       0.03587675, 0.035963  , 0.03588358, 0.03579539, 0.03581899,\n",
       "       0.03599742, 0.03587785, 0.03567278, 0.03580528, 0.03605908,\n",
       "       0.03583226, 0.03578836, 0.03590518, 0.03585893, 0.03591907,\n",
       "       0.03595757, 0.0360139 , 0.03578824, 0.03605375, 0.03595293,\n",
       "       0.03580558, 0.03593656, 0.03583303, 0.03580594, 0.03576204,\n",
       "       0.03585166, 0.03592518, 0.03577232, 0.03578615, 0.03590065,\n",
       "       0.03573248, 0.03591463, 0.03602195, 0.03575581, 0.03588188,\n",
       "       0.03583899, 0.03589237, 0.03578836, 0.03596079, 0.03565463,\n",
       "       0.03590596, 0.03589693, 0.03567526, 0.03593376, 0.03591755,\n",
       "       0.03602299, 0.03565338, 0.03581536, 0.03597215, 0.03572211,\n",
       "       0.03579214, 0.03588125, 0.03554544, 0.03589863, 0.0359906 ,\n",
       "       0.0357284 , 0.03597981, 0.03586537, 0.03584817, 0.03581026,\n",
       "       0.03598756, 0.03591681, 0.03566259, 0.03598782, 0.03592974,\n",
       "       0.0359363 , 0.03582808, 0.0359267 , 0.03588772, 0.03577405,\n",
       "       0.0356991 , 0.0359565 , 0.03587803, 0.03601259, 0.03578979,\n",
       "       0.03597549, 0.03588211, 0.03590733, 0.03594249, 0.03595316,\n",
       "       0.03592277, 0.0358184 , 0.03577092, 0.03575376, 0.0359396 ,\n",
       "       0.0358986 , 0.03592107, 0.03570828, 0.03582758, 0.03593564,\n",
       "       0.03593946, 0.03588465, 0.03579277, 0.03593504, 0.03569129,\n",
       "       0.03590217, 0.03602847, 0.03588986, 0.03593036, 0.03564757,\n",
       "       0.03590331, 0.03592005, 0.03576779, 0.03574875, 0.03580487,\n",
       "       0.03592914, 0.03593913, 0.03580305, 0.03586516, 0.03561056,\n",
       "       0.03577831, 0.03587341, 0.03577527, 0.03575161, 0.03580475,\n",
       "       0.03597948, 0.03575724, 0.03587702, 0.03584746, 0.03590983,\n",
       "       0.03591174, 0.035808  , 0.03593275, 0.03591448, 0.03595144,\n",
       "       0.03594869, 0.0358232 , 0.03591853, 0.03558746, 0.03583237,\n",
       "       0.0357109 , 0.03556344, 0.03599942, 0.03573448, 0.03574637,\n",
       "       0.03599355, 0.03581789, 0.03586894, 0.03594014, 0.03586966,\n",
       "       0.03587017, 0.03595752, 0.03588647, 0.03577143, 0.03593865,\n",
       "       0.03585765, 0.03595284, 0.03576431, 0.03588697, 0.03582874])"
      ]
     },
     "execution_count": 160,
     "metadata": {},
     "output_type": "execute_result"
    }
   ],
   "source": [
    "dev_probs"
   ]
  },
  {
   "cell_type": "code",
   "execution_count": null,
   "metadata": {},
   "outputs": [],
   "source": []
  }
 ],
 "metadata": {
  "kernelspec": {
   "display_name": "Python 3",
   "language": "python",
   "name": "python3"
  },
  "language_info": {
   "codemirror_mode": {
    "name": "ipython",
    "version": 3
   },
   "file_extension": ".py",
   "mimetype": "text/x-python",
   "name": "python",
   "nbconvert_exporter": "python",
   "pygments_lexer": "ipython3",
   "version": "3.6.9"
  }
 },
 "nbformat": 4,
 "nbformat_minor": 2
}
